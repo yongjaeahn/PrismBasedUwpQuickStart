{
  "cells": [
    {
      "cell_type": "markdown",
      "metadata": {
        "id": "view-in-github",
        "colab_type": "text"
      },
      "source": [
        "<a href=\"https://colab.research.google.com/github/yongjaeahn/UwpQuickStart/blob/master/korean/source/%EC%9E%84%EC%8B%9C_%EC%BD%94%EB%93%9C_%EB%B3%B4%EA%B4%80.ipynb\" target=\"_parent\"><img src=\"https://colab.research.google.com/assets/colab-badge.svg\" alt=\"Open In Colab\"/></a>"
      ]
    },
    {
      "cell_type": "code",
      "source": [
        "import numpy as np\n",
        "import tensorflow.keras.datasets.mnist as mnist\n",
        "\n",
        "(x_train,_), (_,_) = mnist.load_data()\n",
        "x_train = (x_train.astype(np.float32) - 127.5) / 127.5\n",
        "x_train = x_train.reshape(60000,784)"
      ],
      "metadata": {
        "colab": {
          "base_uri": "https://localhost:8080/"
        },
        "id": "jY71COFYl9Bn",
        "outputId": "3ad10e74-bc37-4891-b836-bdfa7b328382"
      },
      "execution_count": null,
      "outputs": [
        {
          "output_type": "stream",
          "name": "stdout",
          "text": [
            "Downloading data from https://storage.googleapis.com/tensorflow/tf-keras-datasets/mnist.npz\n",
            "11490434/11490434 [==============================] - 0s 0us/step\n"
          ]
        }
      ]
    },
    {
      "cell_type": "code",
      "source": [
        "from tensorflow.keras import Sequential\n",
        "from tensorflow.keras.layers import Dense\n",
        "from tensorflow.keras.layers import LeakyReLU\n",
        "\n",
        "random_dim = 100\n",
        "generator = Sequential()\n",
        "generator.add(Dense(256,input_dim=random_dim))\n",
        "generator.add(LeakyReLU(0.2))\n",
        "generator.add(Dense(512))\n",
        "generator.add(LeakyReLU(0.2))\n",
        "generator.add(Dense(1024))\n",
        "generator.add(LeakyReLU(0.2))\n",
        "\n",
        "generator.add(Dense(784,activation='tanh'))"
      ],
      "metadata": {
        "id": "XQ7lb-zTo3u8"
      },
      "execution_count": null,
      "outputs": []
    },
    {
      "cell_type": "code",
      "source": [
        "from tensorflow.keras.layers import Dropout\n",
        "\n",
        "discriminator = Sequential()\n",
        "discriminator.add(Dense(1024,input_dim=784))\n",
        "discriminator.add(LeakyReLU(0.2))\n",
        "discriminator.add(Dropout(0.3))\n",
        "discriminator.add(Dense(512))\n",
        "discriminator.add(LeakyReLU(0.2))\n",
        "discriminator.add(Dropout(0.3))\n",
        "discriminator.add(Dense(256))\n",
        "discriminator.add(LeakyReLU(0.2))\n",
        "discriminator.add(Dropout(0.3))\n",
        "\n",
        "discriminator.add(Dense(1,activation='sigmoid'))"
      ],
      "metadata": {
        "id": "WaaS3p6hyi1d"
      },
      "execution_count": null,
      "outputs": []
    },
    {
      "cell_type": "code",
      "source": [
        "from tensorflow.keras import Model\n",
        "from tensorflow.keras.layers import Input\n",
        "\n",
        "discriminator.trainable = False\n",
        "gan_input = Input(shape=(random_dim,))\n",
        "x = generator(gan_input)\n",
        "gan_output = discriminator(x)\n",
        "gan = Model(inputs=gan_input,outputs=gan_output)"
      ],
      "metadata": {
        "id": "yh0THEZU0BOr"
      },
      "execution_count": null,
      "outputs": []
    },
    {
      "cell_type": "code",
      "source": [
        "discriminator.compile(loss='binary_crossentropy',optimizer='adam')\n",
        "gan.compile(loss='binary_crossentropy',optimizer='adam')"
      ],
      "metadata": {
        "id": "t8NRBtpq3iHo"
      },
      "execution_count": null,
      "outputs": []
    },
    {
      "cell_type": "code",
      "source": [
        "import matplotlib.pyplot as plt\n",
        "\n",
        "d_losses = []\n",
        "g_losses = []\n",
        "\n",
        "def save_generated_images(epoch,examples=100,dim=(10,10),figsize=(10,10)):\n",
        "  noise = np.random.normal(0,1,size=[examples,random_dim])\n",
        "  generated_images = generator.predict(noise)\n",
        "  generated_images = generated_images.reshape(examples,28,28)\n",
        "  generated_images = generated_images * 127.5 + 127.5\n",
        "  generated_images = generated_images.astype(np.int_)\n",
        "\n",
        "  plt.figure(figsize=figsize)\n",
        "  for i in range(generated_images.shape[0]):\n",
        "    plt.subplot(dim[0],dim[1],i+1)\n",
        "    plt.imshow(generated_images[i],interpolation='nearest',cmap='gray_r')\n",
        "    plt.axis('off')\n",
        "  plt.tight_layout()\n",
        "  plt.savefig(f'gan_generated_image_epoch_{epoch:d}.png')\n",
        "\n",
        "def plot_loss(epoch):\n",
        "  plt.figure(figsize=(10,8))\n",
        "  plt.plot(d_losses,label=\"Discriminitive Loss\")\n",
        "  plt.plot(g_losses,label=\"Generative Loss\")\n",
        "  plt.xlabel(\"Epoch\")\n",
        "  plt.ylabel(\"Loss\")\n",
        "  plt.savefig(f'gan_loss_epoch_{epoch:d}.png')\n",
        "\n",
        "def train(epochs=1,batch_size=128):\n",
        "  batch_count = int(x_train.shape[0] / batch_size)\n",
        "\n",
        "  for epoch in range(1,epochs+1):\n",
        "    for _ in range(batch_count):\n",
        "      #print('before: noise = np.random.normal(0,1,size=[batch_size,random_dim])')\n",
        "      noise = np.random.normal(0,1,size=[batch_size,random_dim])\n",
        "      image_batch = x_train[np.random.randint(0,x_train.shape[0],size=batch_size)]\n",
        "\n",
        "      #print('before: generated_images = generator.predict(noise)')\n",
        "      generated_images = generator.predict(noise)\n",
        "      x = np.concatenate([image_batch,generated_images])\n",
        "\n",
        "      #print('before: y_dis = np.zeros(2*batch_size)')\n",
        "      y_dis = np.zeros(2*batch_size)\n",
        "      y_dis[:batch_size] = 0.9\n",
        "\n",
        "      discriminator.trainable = True\n",
        "      d_loss = discriminator.train_on_batch(x,y_dis)\n",
        "\n",
        "      #print('before: noise = np.random.normal(0,1,size=[batch_size,random_dim])')\n",
        "      noise = np.random.normal(0,1,size=[batch_size,random_dim])\n",
        "      y_gen = np.ones(batch_size)\n",
        "      discriminator.trainable = False\n",
        "      g_loss = gan.train_on_batch(noise,y_gen)\n",
        "\n",
        "    #print('before: d_losses.append(d_loss)')\n",
        "    d_losses.append(d_loss)\n",
        "    g_losses.append(g_loss)\n",
        "\n",
        "    if epoch == 1 or epoch % 10 == 0:\n",
        "      save_generated_images(epoch)\n",
        "      plot_loss(epoch)"
      ],
      "metadata": {
        "id": "1P8dh2QV5rAg"
      },
      "execution_count": null,
      "outputs": []
    },
    {
      "cell_type": "code",
      "execution_count": null,
      "metadata": {
        "colab": {
          "background_save": true,
          "base_uri": "https://localhost:8080/"
        },
        "id": "q4lDtb8rh5HR",
        "outputId": "9fcec0f8-a619-4dbf-ec48-4d0d8db54ec5"
      },
      "outputs": [
        {
          "name": "stdout",
          "output_type": "stream",
          "text": [
            "1/1 [==============================] - 0s 421ms/step\n",
            "653\n"
          ]
        }
      ],
      "source": [
        "import numpy as np\n",
        "import tensorflow as tf\n",
        "import tensorflow_hub as hub\n",
        "import PIL.Image as Image\n",
        "\n",
        "classifier_url = \"https://tfhub.dev/google/tf2-preview/mobilenet_v2/classification/2\"\n",
        "classifier = tf.keras.Sequential([hub.KerasLayer(classifier_url,input_shape=(224,224) + (3,))])\n",
        "\n",
        "grace_hopper = tf.keras.utils.get_file('image.jpg','https://storage.googleapis.com/download.tensorflow.org/example_images/grace_hopper.jpg')\n",
        "grace_hopper = Image.open(grace_hopper).resize((224,224))\n",
        "grace_hopper = np.array(grace_hopper)/255.0\n",
        "\n",
        "result = classifier.predict(grace_hopper[np.newaxis,...])\n",
        "predicted_class = np.argmax(result[0])\n",
        "print()"
      ]
    },
    {
      "cell_type": "code",
      "execution_count": null,
      "metadata": {
        "colab": {
          "base_uri": "https://localhost:8080/"
        },
        "id": "ie4GFsZTmQnH",
        "outputId": "c52aad59-e8a6-4c6d-ed5d-4b346fe0cd74"
      },
      "outputs": [
        {
          "data": {
            "text/plain": [
              "array([[ 0.19971317,  1.0666476 , -0.10109331, ...,  0.15688556,\n",
              "        -0.60558677, -0.04497562]], dtype=float32)"
            ]
          },
          "execution_count": 11,
          "metadata": {},
          "output_type": "execute_result"
        }
      ],
      "source": [
        "result"
      ]
    },
    {
      "cell_type": "code",
      "execution_count": null,
      "metadata": {
        "colab": {
          "base_uri": "https://localhost:8080/",
          "height": 36
        },
        "id": "mxNGXythkPgA",
        "outputId": "0fe0a43a-7841-4e2a-dd9d-262c60df3ca7"
      },
      "outputs": [
        {
          "data": {
            "application/vnd.google.colaboratory.intrinsic+json": {
              "type": "string"
            },
            "text/plain": [
              "'/root/.keras/datasets/image.jpg'"
            ]
          },
          "execution_count": 7,
          "metadata": {},
          "output_type": "execute_result"
        }
      ],
      "source": [
        "grace_hopper"
      ]
    },
    {
      "cell_type": "code",
      "execution_count": null,
      "metadata": {
        "colab": {
          "base_uri": "https://localhost:8080/"
        },
        "id": "RPuEmPtcQNH0",
        "outputId": "343189cd-3672-4113-d53f-6a7f5d0dad51"
      },
      "outputs": [
        {
          "name": "stdout",
          "output_type": "stream",
          "text": [
            "cmr10\n",
            "DejaVu Serif\n",
            "STIXSizeTwoSym\n",
            "DejaVu Sans Mono\n",
            "DejaVu Sans\n",
            "STIXGeneral\n",
            "STIXNonUnicode\n",
            "cmb10\n",
            "DejaVu Serif\n",
            "STIXGeneral\n",
            "cmmi10\n",
            "STIXSizeThreeSym\n",
            "DejaVu Sans\n",
            "STIXNonUnicode\n",
            "DejaVu Sans\n",
            "cmsy10\n",
            "cmex10\n",
            "STIXGeneral\n",
            "DejaVu Serif\n",
            "STIXSizeFiveSym\n",
            "STIXSizeFourSym\n",
            "STIXGeneral\n",
            "DejaVu Sans Display\n",
            "STIXNonUnicode\n",
            "DejaVu Sans Mono\n",
            "DejaVu Sans Mono\n",
            "STIXSizeOneSym\n",
            "STIXSizeTwoSym\n",
            "DejaVu Serif Display\n",
            "STIXNonUnicode\n",
            "STIXSizeOneSym\n",
            "cmss10\n",
            "DejaVu Sans\n",
            "cmtt10\n",
            "STIXSizeThreeSym\n",
            "DejaVu Sans Mono\n",
            "STIXSizeFourSym\n",
            "DejaVu Serif\n",
            "Liberation Serif\n",
            "Liberation Mono\n",
            "Liberation Sans\n",
            "Liberation Serif\n",
            "Liberation Sans\n",
            "Liberation Sans Narrow\n",
            "Humor Sans\n",
            "Liberation Serif\n",
            "Liberation Sans Narrow\n",
            "Liberation Mono\n",
            "Liberation Sans\n",
            "Liberation Mono\n",
            "Liberation Sans Narrow\n",
            "Liberation Mono\n",
            "Liberation Serif\n",
            "Liberation Sans\n",
            "Liberation Sans Narrow\n"
          ]
        }
      ],
      "source": [
        "# 폰트 라이브러리를 보는 코드\n",
        "from matplotlib import font_manager\n",
        "\n",
        "fontList = [font.name for font in font_manager.fontManager.ttflist]\n",
        "\n",
        "for font in fontList:\n",
        "    print(font)"
      ]
    },
    {
      "cell_type": "code",
      "execution_count": null,
      "metadata": {
        "colab": {
          "base_uri": "https://localhost:8080/",
          "height": 389
        },
        "id": "OAcffpw_LJFo",
        "outputId": "c6e0b6c0-f7df-4b93-d9ed-68e7dcd0a658"
      },
      "outputs": [
        {
          "name": "stdout",
          "output_type": "stream",
          "text": [
            "방정식 : f(x)= x**2 + 2*x + 1\n",
            "미분한 방정식 : 2*x + 2\n",
            "x값이 -7.5일때 미분계수 : -13.0000000000000\n",
            "x값이 5일때 미분계수 : 12\n"
          ]
        },
        {
          "data": {
            "image/png": "[encoded data removed]",
            "text/plain": [
              "<Figure size 432x288 with 1 Axes>"
            ]
          },
          "metadata": {},
          "output_type": "display_data"
        },
        {
          "data": {
            "text/plain": [
              "<sympy.plotting.plot.Plot at 0x7f4dc78e70a0>"
            ]
          },
          "execution_count": 2,
          "metadata": {},
          "output_type": "execute_result"
        }
      ],
      "source": [
        "# 그래프의 세부적인 제어가 어려워 사용하지 않는 것이 좋을 듯 (line_color 등의 그래프별로 적용되지 않음)\n",
        "# 대신 numpy와 matplotlib으로 작성하여 미분을 설명할 때 추가함\n",
        "import sympy as sp\n",
        "\n",
        "x = sp.Symbol('x')\n",
        "fx = x**2 + 2*x + 1\n",
        "\n",
        "fxDiff = sp.diff(fx, x)\n",
        "print('방정식 : f(x)=', fx)\n",
        "print('미분한 방정식 :',fxDiff)\n",
        "\n",
        "print('x값이 -7.5일때 미분계수 :', fxDiff.subs({x:-7.5}))\n",
        "print('x값이 5일때 미분계수 :', fxDiff.subs({x:5}))\n",
        "\n",
        "fxDiff01 = fxDiff.subs({x:-7.5}) * x - 56\n",
        "fxDiff02 = fxDiff.subs({x:5}) * x - 25\n",
        "\n",
        "sp.plot(fx,fxDiff01,fxDiff02)"
      ]
    },
    {
      "cell_type": "code",
      "execution_count": null,
      "metadata": {
        "colab": {
          "base_uri": "https://localhost:8080/",
          "height": 54
        },
        "id": "5EXPinkvREan",
        "outputId": "83ad757a-630d-4fae-ad5a-1a75eee54dd6"
      },
      "outputs": [
        {
          "name": "stdout",
          "output_type": "stream",
          "text": [
            "Tool(수준계,3.5)\n"
          ]
        },
        {
          "data": {
            "application/vnd.google.colaboratory.intrinsic+json": {
              "type": "string"
            },
            "text/plain": [
              "'Tool(수준계,3.5)'"
            ]
          },
          "execution_count": 26,
          "metadata": {},
          "output_type": "execute_result"
        }
      ],
      "source": [
        "# 그저 테스트\n",
        "class Tool:\n",
        "    def __init__(self,name,weight):\n",
        "        self.name = name\n",
        "        self.weight = weight\n",
        "\n",
        "    def __repr__(self):\n",
        "        return f'Tool({self.name},{self.weight})'\n",
        "\n",
        "print(Tool('수준계',3.5))\n",
        "repr(Tool('수준계',3.5))"
      ]
    },
    {
      "cell_type": "code",
      "execution_count": null,
      "metadata": {
        "id": "mcuFzDFRTKud"
      },
      "outputs": [],
      "source": [
        "# 그저 테스트\n",
        "class Tool:\n",
        "    def __init__(self,name,weight):\n",
        "        self.name = name\n",
        "        self.weight = weight\n",
        "\n",
        "    def __repr__(self):\n",
        "        #return f'Tool({self.name},{self.weight})'\n",
        "        return f'Tool({self.name!r},{self.weight})' # !r의 Raw String의 의미인 것으로 보인다.\n",
        "\n",
        "print(Tool('수준계',3.5))\n",
        "repr(Tool('수준계',3.5))"
      ]
    },
    {
      "cell_type": "code",
      "execution_count": null,
      "metadata": {
        "colab": {
          "base_uri": "https://localhost:8080/"
        },
        "id": "LkW-DZIu1ywO",
        "outputId": "e3c764e3-fcc5-4bb3-fd17-06175b6803cc"
      },
      "outputs": [
        {
          "name": "stdout",
          "output_type": "stream",
          "text": [
            "[[1 0 0]\n",
            " [0 2 0]\n",
            " [0 0 3]]\n",
            "[[80 95 57]\n",
            " [49 44 48]\n",
            " [60 89 69]]\n",
            "[80 44 69]\n",
            "193\n",
            "[[80 95 57]\n",
            " [ 0 44 48]\n",
            " [ 0  0 69]]\n",
            "[[80  0  0]\n",
            " [49 44  0]\n",
            " [60 89 69]]\n",
            "[[80 49 60]\n",
            " [95 44 89]\n",
            " [57 48 69]]\n",
            "[[ 0.0255488   0.03063376 -0.04241597]\n",
            " [ 0.01035595 -0.04340816  0.02164207]\n",
            " [-0.03557402  0.02935218  0.02346108]]\n",
            "[[ 1. -0.  0.]\n",
            " [ 0.  1.  0.]\n",
            " [ 0. -0.  1.]]\n",
            "-48377.99999999997\n",
            "[[1. 0.]\n",
            " [0. 1.]]\n",
            "[[80. 95. 57.  1.  0.  0.]\n",
            " [49. 44. 48.  0.  1.  0.]\n",
            " [60. 89. 69.  0.  0.  1.]]\n"
          ]
        }
      ],
      "source": [
        "# 그저 테스트\n",
        "import numpy as np\n",
        "import math\n",
        "\n",
        "arrayVector = np.array([1,2,3])\n",
        "print(np.diag(arrayVector))\n",
        "arrayMatrix2d = np.random.randint(100,size=(3,3))\n",
        "print(arrayMatrix2d)\n",
        "print(np.diag(arrayMatrix2d))\n",
        "print(np.trace(arrayMatrix2d))\n",
        "print(np.triu(arrayMatrix2d))\n",
        "print(np.tril(arrayMatrix2d))\n",
        "print(np.transpose(arrayMatrix2d))\n",
        "print(np.linalg.inv(arrayMatrix2d))\n",
        "print(np.round((arrayMatrix2d @ np.linalg.inv(arrayMatrix2d)),3))\n",
        "print(np.linalg.det(arrayMatrix2d))\n",
        "print(np.eye(np.ndim(arrayMatrix2d)))\n",
        "print(np.hstack((arrayMatrix2d,np.eye(np.shape(arrayMatrix2d)[0]))))"
      ]
    },
    {
      "cell_type": "code",
      "execution_count": null,
      "metadata": {
        "colab": {
          "base_uri": "https://localhost:8080/"
        },
        "id": "XD-Z7b350b5X",
        "outputId": "d90b1a61-3f86-4979-a801-1f222c4f562e"
      },
      "outputs": [
        {
          "name": "stdout",
          "output_type": "stream",
          "text": [
            "[10, 99, 30] 10\n"
          ]
        }
      ],
      "source": [
        "# 포인터/레퍼런스에서 부작용을 언급\n",
        "def returnMultipleValues(listVariable, intVariable):\n",
        "    #return (10,20,30)\n",
        "    listVariable[1] = 99\n",
        "    intVariable = 99\n",
        "    return 10,20,30\n",
        "\n",
        "listVariable = [10,20,30]\n",
        "intVariable = 10\n",
        "returnedValues = returnMultipleValues(listVariable, intVariable)\n",
        "print(listVariable, intVariable)"
      ]
    },
    {
      "cell_type": "code",
      "execution_count": null,
      "metadata": {
        "colab": {
          "base_uri": "https://localhost:8080/",
          "height": 265
        },
        "id": "hProHRMRGzrE",
        "outputId": "4de4ae50-26c7-4adf-db73-a5cd4242f976"
      },
      "outputs": [
        {
          "data": {
            "image/png": "[encoded data removed]",
            "text/plain": [
              "<Figure size 432x288 with 1 Axes>"
            ]
          },
          "metadata": {},
          "output_type": "display_data"
        }
      ],
      "source": [
        "# 기하에서 언급하면 될 듯\n",
        "import numpy as np\n",
        "import matplotlib.pyplot as plt\n",
        "\n",
        "degrees = np.linspace(0,360)\n",
        "x = np.sin(np.radians(degrees))\n",
        "y = np.cos(np.radians(degrees))\n",
        "\n",
        "plt.plot(x,y)\n",
        "plt.show()"
      ]
    },
    {
      "cell_type": "code",
      "execution_count": null,
      "metadata": {
        "colab": {
          "base_uri": "https://localhost:8080/",
          "height": 265
        },
        "id": "pEJJHM20tL-b",
        "outputId": "d795a8a0-401f-4456-a31d-46f16a73c882"
      },
      "outputs": [
        {
          "data": {
            "image/png": "[encoded data removed]",
            "text/plain": [
              "<Figure size 432x288 with 1 Axes>"
            ]
          },
          "metadata": {},
          "output_type": "display_data"
        }
      ],
      "source": [
        "# 기하에서 언급하면 될 듯\n",
        "import numpy as np\n",
        "import matplotlib.pyplot as plt\n",
        "\n",
        "degrees = np.linspace(0,360)\n",
        "x = np.sin(np.radians(degrees))\n",
        "y = np.cos(np.radians(degrees))\n",
        "\n",
        "plt.plot(x,y)\n",
        "plt.axis('equal')\n",
        "plt.show()"
      ]
    },
    {
      "cell_type": "code",
      "execution_count": null,
      "metadata": {
        "colab": {
          "base_uri": "https://localhost:8080/",
          "height": 1000
        },
        "id": "T6U5xdNuOxk5",
        "outputId": "eb5b9743-b00b-4a72-e8b5-0e56780285fa"
      },
      "outputs": [
        {
          "data": {
            "image/png": "[encoded data removed]",
            "text/plain": [
              "<Figure size 432x288 with 1 Axes>"
            ]
          },
          "metadata": {},
          "output_type": "display_data"
        },
        {
          "data": {
            "image/png": "[encoded data removed]",
            "text/plain": [
              "<Figure size 432x288 with 1 Axes>"
            ]
          },
          "metadata": {},
          "output_type": "display_data"
        },
        {
          "data": {
            "image/png": "[encoded data removed]",
            "text/plain": [
              "<Figure size 432x288 with 1 Axes>"
            ]
          },
          "metadata": {},
          "output_type": "display_data"
        },
        {
          "ename": "TypeError",
          "evalue": "ignored",
          "output_type": "error",
          "traceback": [
            "\u001b[0;31m---------------------------------------------------------------------------\u001b[0m",
            "\u001b[0;31mTypeError\u001b[0m                                 Traceback (most recent call last)",
            "\u001b[0;32m<ipython-input-1-487ad7bb047e>\u001b[0m in \u001b[0;36m<module>\u001b[0;34m\u001b[0m\n\u001b[1;32m     12\u001b[0m \u001b[0msp\u001b[0m\u001b[0;34m.\u001b[0m\u001b[0mplot_implicit\u001b[0m\u001b[0;34m(\u001b[0m\u001b[0mf2\u001b[0m\u001b[0;34m)\u001b[0m\u001b[0;34m\u001b[0m\u001b[0;34m\u001b[0m\u001b[0m\n\u001b[1;32m     13\u001b[0m \u001b[0msp\u001b[0m\u001b[0;34m.\u001b[0m\u001b[0mplot_implicit\u001b[0m\u001b[0;34m(\u001b[0m\u001b[0mf3\u001b[0m\u001b[0;34m)\u001b[0m\u001b[0;34m\u001b[0m\u001b[0;34m\u001b[0m\u001b[0m\n\u001b[0;32m---> 14\u001b[0;31m \u001b[0msp\u001b[0m\u001b[0;34m.\u001b[0m\u001b[0mplot_implicit\u001b[0m\u001b[0;34m(\u001b[0m\u001b[0mf1\u001b[0m\u001b[0;34m,\u001b[0m\u001b[0mf3\u001b[0m\u001b[0;34m)\u001b[0m\u001b[0;34m\u001b[0m\u001b[0;34m\u001b[0m\u001b[0m\n\u001b[0m",
            "\u001b[0;32m/usr/local/lib/python3.8/dist-packages/sympy/plotting/plot_implicit.py\u001b[0m in \u001b[0;36mplot_implicit\u001b[0;34m(expr, x_var, y_var, adaptive, depth, points, line_color, show, **kwargs)\u001b[0m\n\u001b[1;32m    393\u001b[0m     \u001b[0;32mif\u001b[0m \u001b[0mlen\u001b[0m\u001b[0;34m(\u001b[0m\u001b[0mxyvar\u001b[0m\u001b[0;34m)\u001b[0m \u001b[0;34m==\u001b[0m \u001b[0;36m0\u001b[0m\u001b[0;34m:\u001b[0m\u001b[0;34m\u001b[0m\u001b[0;34m\u001b[0m\u001b[0m\n\u001b[1;32m    394\u001b[0m         \u001b[0mxyvar\u001b[0m \u001b[0;34m=\u001b[0m \u001b[0mlist\u001b[0m\u001b[0;34m(\u001b[0m\u001b[0m_sort_gens\u001b[0m\u001b[0;34m(\u001b[0m\u001b[0mfree_symbols\u001b[0m\u001b[0;34m)\u001b[0m\u001b[0;34m)\u001b[0m\u001b[0;34m\u001b[0m\u001b[0;34m\u001b[0m\u001b[0m\n\u001b[0;32m--> 395\u001b[0;31m     \u001b[0mvar_start_end_x\u001b[0m \u001b[0;34m=\u001b[0m \u001b[0m_range_tuple\u001b[0m\u001b[0;34m(\u001b[0m\u001b[0mxyvar\u001b[0m\u001b[0;34m[\u001b[0m\u001b[0;36m0\u001b[0m\u001b[0;34m]\u001b[0m\u001b[0;34m)\u001b[0m\u001b[0;34m\u001b[0m\u001b[0;34m\u001b[0m\u001b[0m\n\u001b[0m\u001b[1;32m    396\u001b[0m     \u001b[0mx\u001b[0m \u001b[0;34m=\u001b[0m \u001b[0mvar_start_end_x\u001b[0m\u001b[0;34m[\u001b[0m\u001b[0;36m0\u001b[0m\u001b[0;34m]\u001b[0m\u001b[0;34m\u001b[0m\u001b[0;34m\u001b[0m\u001b[0m\n\u001b[1;32m    397\u001b[0m     \u001b[0;32mif\u001b[0m \u001b[0mlen\u001b[0m\u001b[0;34m(\u001b[0m\u001b[0mxyvar\u001b[0m\u001b[0;34m)\u001b[0m \u001b[0;34m!=\u001b[0m \u001b[0;36m2\u001b[0m\u001b[0;34m:\u001b[0m\u001b[0;34m\u001b[0m\u001b[0;34m\u001b[0m\u001b[0m\n",
            "\u001b[0;32m/usr/local/lib/python3.8/dist-packages/sympy/plotting/plot_implicit.py\u001b[0m in \u001b[0;36m_range_tuple\u001b[0;34m(s)\u001b[0m\n\u001b[1;32m    387\u001b[0m         \u001b[0;32mif\u001b[0m \u001b[0misinstance\u001b[0m\u001b[0;34m(\u001b[0m\u001b[0ms\u001b[0m\u001b[0;34m,\u001b[0m \u001b[0mSymbol\u001b[0m\u001b[0;34m)\u001b[0m\u001b[0;34m:\u001b[0m\u001b[0;34m\u001b[0m\u001b[0;34m\u001b[0m\u001b[0m\n\u001b[1;32m    388\u001b[0m             \u001b[0;32mreturn\u001b[0m \u001b[0mTuple\u001b[0m\u001b[0;34m(\u001b[0m\u001b[0ms\u001b[0m\u001b[0;34m)\u001b[0m \u001b[0;34m+\u001b[0m \u001b[0mdefault_range\u001b[0m\u001b[0;34m\u001b[0m\u001b[0;34m\u001b[0m\u001b[0m\n\u001b[0;32m--> 389\u001b[0;31m         \u001b[0;32mif\u001b[0m \u001b[0mlen\u001b[0m\u001b[0;34m(\u001b[0m\u001b[0ms\u001b[0m\u001b[0;34m)\u001b[0m \u001b[0;34m==\u001b[0m \u001b[0;36m3\u001b[0m\u001b[0;34m:\u001b[0m\u001b[0;34m\u001b[0m\u001b[0;34m\u001b[0m\u001b[0m\n\u001b[0m\u001b[1;32m    390\u001b[0m             \u001b[0;32mreturn\u001b[0m \u001b[0mTuple\u001b[0m\u001b[0;34m(\u001b[0m\u001b[0;34m*\u001b[0m\u001b[0ms\u001b[0m\u001b[0;34m)\u001b[0m\u001b[0;34m\u001b[0m\u001b[0;34m\u001b[0m\u001b[0m\n\u001b[1;32m    391\u001b[0m         \u001b[0;32mraise\u001b[0m \u001b[0mValueError\u001b[0m\u001b[0;34m(\u001b[0m\u001b[0;34m'symbol or `(symbol, min, max)` expected but got %s'\u001b[0m \u001b[0;34m%\u001b[0m \u001b[0ms\u001b[0m\u001b[0;34m)\u001b[0m\u001b[0;34m\u001b[0m\u001b[0;34m\u001b[0m\u001b[0m\n",
            "\u001b[0;31mTypeError\u001b[0m: object of type 'Equality' has no len()"
          ]
        }
      ],
      "source": [
        "# 고급 그래프에서 3차원 그래프와 함께 언급하면 될 듯\n",
        "import sympy as sp\n",
        "\n",
        "x = sp.Symbol('x')\n",
        "y = sp.Symbol('y')\n",
        "\n",
        "f1 = sp.Eq(4*x - 2*y,9)\n",
        "f2 = sp.Eq(3*x + y,8)\n",
        "f3 = sp.Eq(-2*x + 2*y,5)\n",
        "\n",
        "sp.plot_implicit(f1)\n",
        "sp.plot_implicit(f2)\n",
        "sp.plot_implicit(f3)\n",
        "sp.plot_implicit(f1,f3)"
      ]
    },
    {
      "cell_type": "markdown",
      "metadata": {
        "id": "2cKErH9F5c5Q"
      },
      "source": [
        "![캡처.PNG](data:image/png;base64,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)"
      ]
    },
    {
      "cell_type": "code",
      "execution_count": null,
      "metadata": {
        "colab": {
          "base_uri": "https://localhost:8080/"
        },
        "id": "7JC3YD0w4kHz",
        "outputId": "97759a0a-8f57-48b9-a5f7-f96916508cbf"
      },
      "outputs": [
        {
          "data": {
            "text/plain": [
              "      converged: True\n",
              "           flag: 'converged'\n",
              " function_calls: 7\n",
              "     iterations: 6\n",
              "           root: 0.5671432904097838"
            ]
          },
          "execution_count": 2,
          "metadata": {},
          "output_type": "execute_result"
        }
      ],
      "source": [
        "# chatGPT가 코드해 준 x=exp(-x) 방정식의 근을 구해주는 코드\n",
        "import numpy as np\n",
        "from scipy.optimize import root_scalar\n",
        "\n",
        "def func(x):\n",
        "    return x - np.exp(-x)\n",
        "\n",
        "sol = root_scalar(func, x0=1, x1=2)\n",
        "sol"
      ]
    },
    {
      "cell_type": "code",
      "execution_count": null,
      "metadata": {
        "colab": {
          "base_uri": "https://localhost:8080/"
        },
        "id": "_9fvVUKQJEgM",
        "outputId": "d6b85c5c-80e8-44a0-e143-88c864223be0"
      },
      "outputs": [
        {
          "data": {
            "text/plain": [
              "  message: 'The solver successfully reached the end of the integration interval.'\n",
              "     nfev: 74\n",
              "     njev: 0\n",
              "      nlu: 0\n",
              "      sol: None\n",
              "   status: 0\n",
              "  success: True\n",
              "        t: array([0.        , 0.10204082, 0.20408163, 0.30612245, 0.40816327,\n",
              "       0.51020408, 0.6122449 , 0.71428571, 0.81632653, 0.91836735,\n",
              "       1.02040816, 1.12244898, 1.2244898 , 1.32653061, 1.42857143,\n",
              "       1.53061224, 1.63265306, 1.73469388, 1.83673469, 1.93877551,\n",
              "       2.04081633, 2.14285714, 2.24489796, 2.34693878, 2.44897959,\n",
              "       2.55102041, 2.65306122, 2.75510204, 2.85714286, 2.95918367,\n",
              "       3.06122449, 3.16326531, 3.26530612, 3.36734694, 3.46938776,\n",
              "       3.57142857, 3.67346939, 3.7755102 , 3.87755102, 3.97959184,\n",
              "       4.08163265, 4.18367347, 4.28571429, 4.3877551 , 4.48979592,\n",
              "       4.59183673, 4.69387755, 4.79591837, 4.89795918, 5.        ])\n",
              " t_events: None\n",
              "        y: array([[1.00000000e+00, 8.15369277e-01, 6.64544769e-01, 5.41726258e-01,\n",
              "        4.41941913e-01, 3.60673476e-01, 2.94070079e-01, 2.39702164e-01,\n",
              "        1.95476228e-01, 1.59490242e-01, 1.30068314e-01, 1.06017756e-01,\n",
              "        8.64413336e-02, 7.05217904e-02, 5.75284035e-02, 4.68933928e-02,\n",
              "        3.82282861e-02, 3.11827548e-02, 2.54421925e-02, 2.07420297e-02,\n",
              "        1.69073221e-02, 1.37885437e-02, 1.12505434e-02, 9.17465907e-03,\n",
              "        7.47809111e-03, 6.09738649e-03, 4.97464664e-03, 4.05806245e-03,\n",
              "        3.30775400e-03, 2.69647705e-03, 2.19956396e-03, 1.79477732e-03,\n",
              "        1.46322550e-03, 1.19258994e-03, 9.72533688e-04, 7.93615133e-04,\n",
              "        6.47358535e-04, 5.27569205e-04, 4.30023549e-04, 3.50818691e-04,\n",
              "        2.86373167e-04, 2.33514042e-04, 1.90233720e-04, 1.55045756e-04,\n",
              "        1.26533897e-04, 1.03365323e-04, 8.43304366e-05, 6.87553492e-05,\n",
              "        5.60672032e-05, 4.57237894e-05]])\n",
              " y_events: None"
            ]
          },
          "execution_count": 12,
          "metadata": {},
          "output_type": "execute_result"
        }
      ],
      "source": [
        "# chatGPT가 제시해준 scipy 미분방정식 예제 코드\n",
        "import numpy as np\n",
        "from scipy.integrate import solve_ivp\n",
        "\n",
        "def ode_func(t, y, k):\n",
        "    return -k * y\n",
        "\n",
        "k = 2.0\n",
        "y0 = 1.0\n",
        "t_eval = np.linspace(0, 5, num=50)\n",
        "\n",
        "sol = solve_ivp(lambda t, y: ode_func(t, y, k), [0, 5], [y0], t_eval=t_eval)\n",
        "sol"
      ]
    },
    {
      "cell_type": "code",
      "execution_count": null,
      "metadata": {
        "id": "xuuSlEMkLIse"
      },
      "outputs": [],
      "source": [
        "# chatGPT가 제시해준 sympy 미분방정식 예제 코드\n",
        "import sympy\n",
        "\n",
        "t, y, k = sympy.symbols('t y k')\n",
        "y = sympy.Function('y')(t)\n",
        "ode = y.diff(t) + k * y\n",
        "sol = sympy.dsolve(ode, y)\n",
        "sol = sol.rhs\n",
        "sol = sol.subs(k, 2.0)"
      ]
    },
    {
      "cell_type": "code",
      "execution_count": null,
      "metadata": {
        "colab": {
          "base_uri": "https://localhost:8080/",
          "height": 269
        },
        "id": "NLKmiXiJN2yz",
        "outputId": "a9dc4f0f-c884-49eb-92eb-fff833212d51"
      },
      "outputs": [
        {
          "name": "stdout",
          "output_type": "stream",
          "text": [
            "k*y(t) + Derivative(y(t), t)\n"
          ]
        },
        {
          "ename": "TypeError",
          "evalue": "ignored",
          "output_type": "error",
          "traceback": [
            "\u001b[0;31m---------------------------------------------------------------------------\u001b[0m",
            "\u001b[0;31mTypeError\u001b[0m                                 Traceback (most recent call last)",
            "\u001b[0;32m<ipython-input-22-46d4fcb4838d>\u001b[0m in \u001b[0;36m<module>\u001b[0;34m\u001b[0m\n\u001b[1;32m      6\u001b[0m \u001b[0mode\u001b[0m \u001b[0;34m=\u001b[0m \u001b[0my\u001b[0m\u001b[0;34m.\u001b[0m\u001b[0mdiff\u001b[0m\u001b[0;34m(\u001b[0m\u001b[0mt\u001b[0m\u001b[0;34m)\u001b[0m \u001b[0;34m+\u001b[0m \u001b[0mk\u001b[0m \u001b[0;34m*\u001b[0m \u001b[0my\u001b[0m\u001b[0;34m\u001b[0m\u001b[0;34m\u001b[0m\u001b[0m\n\u001b[1;32m      7\u001b[0m \u001b[0mprint\u001b[0m\u001b[0;34m(\u001b[0m\u001b[0mode\u001b[0m\u001b[0;34m)\u001b[0m\u001b[0;34m\u001b[0m\u001b[0;34m\u001b[0m\u001b[0m\n\u001b[0;32m----> 8\u001b[0;31m \u001b[0msol\u001b[0m \u001b[0;34m=\u001b[0m \u001b[0msympy\u001b[0m\u001b[0;34m.\u001b[0m\u001b[0mdsolve\u001b[0m\u001b[0;34m(\u001b[0m\u001b[0mode\u001b[0m\u001b[0;34m,\u001b[0m \u001b[0my\u001b[0m\u001b[0;34m,\u001b[0m \u001b[0mics\u001b[0m\u001b[0;34m=\u001b[0m\u001b[0;34m{\u001b[0m\u001b[0my\u001b[0m\u001b[0;34m(\u001b[0m\u001b[0;36m0\u001b[0m\u001b[0;34m)\u001b[0m\u001b[0;34m:\u001b[0m\u001b[0;36m1\u001b[0m\u001b[0;34m}\u001b[0m\u001b[0;34m)\u001b[0m\u001b[0;34m\u001b[0m\u001b[0;34m\u001b[0m\u001b[0m\n\u001b[0m\u001b[1;32m      9\u001b[0m \u001b[0mprint\u001b[0m\u001b[0;34m(\u001b[0m\u001b[0msol\u001b[0m\u001b[0;34m)\u001b[0m\u001b[0;34m\u001b[0m\u001b[0;34m\u001b[0m\u001b[0m\n\u001b[1;32m     10\u001b[0m \u001b[0msol\u001b[0m \u001b[0;34m=\u001b[0m \u001b[0msol\u001b[0m\u001b[0;34m.\u001b[0m\u001b[0mrhs\u001b[0m\u001b[0;34m\u001b[0m\u001b[0;34m\u001b[0m\u001b[0m\n",
            "\u001b[0;31mTypeError\u001b[0m: 'y' object is not callable"
          ]
        }
      ],
      "source": [
        "# chatGPT가 제시해준 sympy 미분방정식 예제 코드에 print()를 추가 -> C1을 상수로 바꾸어 주기 위하여 초기값을 주고 있으나 오류가 발생함\n",
        "import sympy\n",
        "\n",
        "t, y, k = sympy.symbols('t y k')\n",
        "y = sympy.Function('y')(t)\n",
        "ode = y.diff(t) + k * y\n",
        "print(ode)\n",
        "sol = sympy.dsolve(ode, y, ics={y(0):1})\n",
        "print(sol)\n",
        "sol = sol.rhs\n",
        "print(sol)\n",
        "sol = sol.subs(k, 2.0)\n",
        "print(sol)"
      ]
    },
    {
      "cell_type": "code",
      "execution_count": null,
      "metadata": {
        "colab": {
          "base_uri": "https://localhost:8080/"
        },
        "id": "1aTNnmmqQI_U",
        "outputId": "1c394f47-7324-47b6-e133-c18b35a054cb"
      },
      "outputs": [
        {
          "name": "stdout",
          "output_type": "stream",
          "text": [
            "[1, 2, 3]\n",
            "4\n"
          ]
        }
      ],
      "source": [
        "*remains, last = [1,2,3,4]\n",
        "print(remains)\n",
        "print(last)"
      ]
    },
    {
      "cell_type": "code",
      "execution_count": null,
      "metadata": {
        "colab": {
          "base_uri": "https://localhost:8080/"
        },
        "id": "E2d56qCAQSxM",
        "outputId": "6451cfae-1d61-4438-fee7-7b73f7af6d65"
      },
      "outputs": [
        {
          "name": "stdout",
          "output_type": "stream",
          "text": [
            "['자', '열']\n",
            "문\n"
          ]
        }
      ],
      "source": [
        "first, *remains = list(\"문자열\")\n",
        "print(remains)\n",
        "print(first)"
      ]
    },
    {
      "cell_type": "code",
      "execution_count": null,
      "metadata": {
        "id": "5Jm_QKz80vsd"
      },
      "outputs": [],
      "source": [
        "from google.colab import drive\n",
        "drive.mount('/content/drive')\n",
        "\n",
        "import os\n",
        "os.chmod('/content/drive/MyDrive/your_file_name', 000)"
      ]
    },
    {
      "cell_type": "code",
      "execution_count": null,
      "metadata": {
        "colab": {
          "base_uri": "https://localhost:8080/",
          "height": 423
        },
        "id": "ym2UD2PXXfji",
        "outputId": "0aae12f6-f999-4ced-ce82-8f343cc4de65"
      },
      "outputs": [
        {
          "data": {
            "text/html": [
              "\n",
              "  <div id=\"df-cf46cf44-6f78-4c89-a843-fe7ada944624\">\n",
              "    <div class=\"colab-df-container\">\n",
              "      <div>\n",
              "<style scoped>\n",
              "    .dataframe tbody tr th:only-of-type {\n",
              "        vertical-align: middle;\n",
              "    }\n",
              "\n",
              "    .dataframe tbody tr th {\n",
              "        vertical-align: top;\n",
              "    }\n",
              "\n",
              "    .dataframe thead th {\n",
              "        text-align: right;\n",
              "    }\n",
              "</style>\n",
              "<table border=\"1\" class=\"dataframe\">\n",
              "  <thead>\n",
              "    <tr style=\"text-align: right;\">\n",
              "      <th></th>\n",
              "      <th>Name</th>\n",
              "      <th>Miles_per_Gallon</th>\n",
              "      <th>Cylinders</th>\n",
              "      <th>Displacement</th>\n",
              "      <th>Horsepower</th>\n",
              "      <th>Weight_in_lbs</th>\n",
              "      <th>Acceleration</th>\n",
              "      <th>Year</th>\n",
              "      <th>Origin</th>\n",
              "    </tr>\n",
              "  </thead>\n",
              "  <tbody>\n",
              "    <tr>\n",
              "      <th>0</th>\n",
              "      <td>chevrolet chevelle malibu</td>\n",
              "      <td>18.0</td>\n",
              "      <td>8</td>\n",
              "      <td>307.0</td>\n",
              "      <td>130.0</td>\n",
              "      <td>3504</td>\n",
              "      <td>12.0</td>\n",
              "      <td>1970-01-01</td>\n",
              "      <td>USA</td>\n",
              "    </tr>\n",
              "    <tr>\n",
              "      <th>1</th>\n",
              "      <td>buick skylark 320</td>\n",
              "      <td>15.0</td>\n",
              "      <td>8</td>\n",
              "      <td>350.0</td>\n",
              "      <td>165.0</td>\n",
              "      <td>3693</td>\n",
              "      <td>11.5</td>\n",
              "      <td>1970-01-01</td>\n",
              "      <td>USA</td>\n",
              "    </tr>\n",
              "    <tr>\n",
              "      <th>2</th>\n",
              "      <td>plymouth satellite</td>\n",
              "      <td>18.0</td>\n",
              "      <td>8</td>\n",
              "      <td>318.0</td>\n",
              "      <td>150.0</td>\n",
              "      <td>3436</td>\n",
              "      <td>11.0</td>\n",
              "      <td>1970-01-01</td>\n",
              "      <td>USA</td>\n",
              "    </tr>\n",
              "    <tr>\n",
              "      <th>3</th>\n",
              "      <td>amc rebel sst</td>\n",
              "      <td>16.0</td>\n",
              "      <td>8</td>\n",
              "      <td>304.0</td>\n",
              "      <td>150.0</td>\n",
              "      <td>3433</td>\n",
              "      <td>12.0</td>\n",
              "      <td>1970-01-01</td>\n",
              "      <td>USA</td>\n",
              "    </tr>\n",
              "    <tr>\n",
              "      <th>4</th>\n",
              "      <td>ford torino</td>\n",
              "      <td>17.0</td>\n",
              "      <td>8</td>\n",
              "      <td>302.0</td>\n",
              "      <td>140.0</td>\n",
              "      <td>3449</td>\n",
              "      <td>10.5</td>\n",
              "      <td>1970-01-01</td>\n",
              "      <td>USA</td>\n",
              "    </tr>\n",
              "    <tr>\n",
              "      <th>...</th>\n",
              "      <td>...</td>\n",
              "      <td>...</td>\n",
              "      <td>...</td>\n",
              "      <td>...</td>\n",
              "      <td>...</td>\n",
              "      <td>...</td>\n",
              "      <td>...</td>\n",
              "      <td>...</td>\n",
              "      <td>...</td>\n",
              "    </tr>\n",
              "    <tr>\n",
              "      <th>401</th>\n",
              "      <td>ford mustang gl</td>\n",
              "      <td>27.0</td>\n",
              "      <td>4</td>\n",
              "      <td>140.0</td>\n",
              "      <td>86.0</td>\n",
              "      <td>2790</td>\n",
              "      <td>15.6</td>\n",
              "      <td>1982-01-01</td>\n",
              "      <td>USA</td>\n",
              "    </tr>\n",
              "    <tr>\n",
              "      <th>402</th>\n",
              "      <td>vw pickup</td>\n",
              "      <td>44.0</td>\n",
              "      <td>4</td>\n",
              "      <td>97.0</td>\n",
              "      <td>52.0</td>\n",
              "      <td>2130</td>\n",
              "      <td>24.6</td>\n",
              "      <td>1982-01-01</td>\n",
              "      <td>Europe</td>\n",
              "    </tr>\n",
              "    <tr>\n",
              "      <th>403</th>\n",
              "      <td>dodge rampage</td>\n",
              "      <td>32.0</td>\n",
              "      <td>4</td>\n",
              "      <td>135.0</td>\n",
              "      <td>84.0</td>\n",
              "      <td>2295</td>\n",
              "      <td>11.6</td>\n",
              "      <td>1982-01-01</td>\n",
              "      <td>USA</td>\n",
              "    </tr>\n",
              "    <tr>\n",
              "      <th>404</th>\n",
              "      <td>ford ranger</td>\n",
              "      <td>28.0</td>\n",
              "      <td>4</td>\n",
              "      <td>120.0</td>\n",
              "      <td>79.0</td>\n",
              "      <td>2625</td>\n",
              "      <td>18.6</td>\n",
              "      <td>1982-01-01</td>\n",
              "      <td>USA</td>\n",
              "    </tr>\n",
              "    <tr>\n",
              "      <th>405</th>\n",
              "      <td>chevy s-10</td>\n",
              "      <td>31.0</td>\n",
              "      <td>4</td>\n",
              "      <td>119.0</td>\n",
              "      <td>82.0</td>\n",
              "      <td>2720</td>\n",
              "      <td>19.4</td>\n",
              "      <td>1982-01-01</td>\n",
              "      <td>USA</td>\n",
              "    </tr>\n",
              "  </tbody>\n",
              "</table>\n",
              "<p>406 rows × 9 columns</p>\n",
              "</div>\n",
              "      <button class=\"colab-df-convert\" onclick=\"convertToInteractive('df-cf46cf44-6f78-4c89-a843-fe7ada944624')\"\n",
              "              title=\"Convert this dataframe to an interactive table.\"\n",
              "              style=\"display:none;\">\n",
              "        \n",
              "  <svg xmlns=\"http://www.w3.org/2000/svg\" height=\"24px\"viewBox=\"0 0 24 24\"\n",
              "       width=\"24px\">\n",
              "    <path d=\"M0 0h24v24H0V0z\" fill=\"none\"/>\n",
              "    <path d=\"M18.56 5.44l.94 2.06.94-2.06 2.06-.94-2.06-.94-.94-2.06-.94 2.06-2.06.94zm-11 1L8.5 8.5l.94-2.06 2.06-.94-2.06-.94L8.5 2.5l-.94 2.06-2.06.94zm10 10l.94 2.06.94-2.06 2.06-.94-2.06-.94-.94-2.06-.94 2.06-2.06.94z\"/><path d=\"M17.41 7.96l-1.37-1.37c-.4-.4-.92-.59-1.43-.59-.52 0-1.04.2-1.43.59L10.3 9.45l-7.72 7.72c-.78.78-.78 2.05 0 2.83L4 21.41c.39.39.9.59 1.41.59.51 0 1.02-.2 1.41-.59l7.78-7.78 2.81-2.81c.8-.78.8-2.07 0-2.86zM5.41 20L4 18.59l7.72-7.72 1.47 1.35L5.41 20z\"/>\n",
              "  </svg>\n",
              "      </button>\n",
              "      \n",
              "  <style>\n",
              "    .colab-df-container {\n",
              "      display:flex;\n",
              "      flex-wrap:wrap;\n",
              "      gap: 12px;\n",
              "    }\n",
              "\n",
              "    .colab-df-convert {\n",
              "      background-color: #E8F0FE;\n",
              "      border: none;\n",
              "      border-radius: 50%;\n",
              "      cursor: pointer;\n",
              "      display: none;\n",
              "      fill: #1967D2;\n",
              "      height: 32px;\n",
              "      padding: 0 0 0 0;\n",
              "      width: 32px;\n",
              "    }\n",
              "\n",
              "    .colab-df-convert:hover {\n",
              "      background-color: #E2EBFA;\n",
              "      box-shadow: 0px 1px 2px rgba(60, 64, 67, 0.3), 0px 1px 3px 1px rgba(60, 64, 67, 0.15);\n",
              "      fill: #174EA6;\n",
              "    }\n",
              "\n",
              "    [theme=dark] .colab-df-convert {\n",
              "      background-color: #3B4455;\n",
              "      fill: #D2E3FC;\n",
              "    }\n",
              "\n",
              "    [theme=dark] .colab-df-convert:hover {\n",
              "      background-color: #434B5C;\n",
              "      box-shadow: 0px 1px 3px 1px rgba(0, 0, 0, 0.15);\n",
              "      filter: drop-shadow(0px 1px 2px rgba(0, 0, 0, 0.3));\n",
              "      fill: #FFFFFF;\n",
              "    }\n",
              "  </style>\n",
              "\n",
              "      <script>\n",
              "        const buttonEl =\n",
              "          document.querySelector('#df-cf46cf44-6f78-4c89-a843-fe7ada944624 button.colab-df-convert');\n",
              "        buttonEl.style.display =\n",
              "          google.colab.kernel.accessAllowed ? 'block' : 'none';\n",
              "\n",
              "        async function convertToInteractive(key) {\n",
              "          const element = document.querySelector('#df-cf46cf44-6f78-4c89-a843-fe7ada944624');\n",
              "          const dataTable =\n",
              "            await google.colab.kernel.invokeFunction('convertToInteractive',\n",
              "                                                     [key], {});\n",
              "          if (!dataTable) return;\n",
              "\n",
              "          const docLinkHtml = 'Like what you see? Visit the ' +\n",
              "            '<a target=\"_blank\" href=https://colab.research.google.com/notebooks/data_table.ipynb>data table notebook</a>'\n",
              "            + ' to learn more about interactive tables.';\n",
              "          element.innerHTML = '';\n",
              "          dataTable['output_type'] = 'display_data';\n",
              "          await google.colab.output.renderOutput(dataTable, element);\n",
              "          const docLink = document.createElement('div');\n",
              "          docLink.innerHTML = docLinkHtml;\n",
              "          element.appendChild(docLink);\n",
              "        }\n",
              "      </script>\n",
              "    </div>\n",
              "  </div>\n",
              "  "
            ],
            "text/plain": [
              "                          Name  Miles_per_Gallon  Cylinders  Displacement  \\\n",
              "0    chevrolet chevelle malibu              18.0          8         307.0   \n",
              "1            buick skylark 320              15.0          8         350.0   \n",
              "2           plymouth satellite              18.0          8         318.0   \n",
              "3                amc rebel sst              16.0          8         304.0   \n",
              "4                  ford torino              17.0          8         302.0   \n",
              "..                         ...               ...        ...           ...   \n",
              "401            ford mustang gl              27.0          4         140.0   \n",
              "402                  vw pickup              44.0          4          97.0   \n",
              "403              dodge rampage              32.0          4         135.0   \n",
              "404                ford ranger              28.0          4         120.0   \n",
              "405                 chevy s-10              31.0          4         119.0   \n",
              "\n",
              "     Horsepower  Weight_in_lbs  Acceleration       Year  Origin  \n",
              "0         130.0           3504          12.0 1970-01-01     USA  \n",
              "1         165.0           3693          11.5 1970-01-01     USA  \n",
              "2         150.0           3436          11.0 1970-01-01     USA  \n",
              "3         150.0           3433          12.0 1970-01-01     USA  \n",
              "4         140.0           3449          10.5 1970-01-01     USA  \n",
              "..          ...            ...           ...        ...     ...  \n",
              "401        86.0           2790          15.6 1982-01-01     USA  \n",
              "402        52.0           2130          24.6 1982-01-01  Europe  \n",
              "403        84.0           2295          11.6 1982-01-01     USA  \n",
              "404        79.0           2625          18.6 1982-01-01     USA  \n",
              "405        82.0           2720          19.4 1982-01-01     USA  \n",
              "\n",
              "[406 rows x 9 columns]"
            ]
          },
          "execution_count": 4,
          "metadata": {},
          "output_type": "execute_result"
        }
      ],
      "source": [
        "from vega_datasets import data\n",
        "data.cars()"
      ]
    },
    {
      "cell_type": "code",
      "execution_count": null,
      "metadata": {
        "colab": {
          "base_uri": "https://localhost:8080/",
          "height": 423
        },
        "id": "BShpBdKfYA3I",
        "outputId": "864a84aa-199e-43f0-eb4e-f5c9a5c14084"
      },
      "outputs": [
        {
          "data": {
            "text/html": [
              "\n",
              "  <div id=\"df-ba34965a-3273-46a8-aa4e-8c1ef14da28a\">\n",
              "    <div class=\"colab-df-container\">\n",
              "      <div>\n",
              "<style scoped>\n",
              "    .dataframe tbody tr th:only-of-type {\n",
              "        vertical-align: middle;\n",
              "    }\n",
              "\n",
              "    .dataframe tbody tr th {\n",
              "        vertical-align: top;\n",
              "    }\n",
              "\n",
              "    .dataframe thead th {\n",
              "        text-align: right;\n",
              "    }\n",
              "</style>\n",
              "<table border=\"1\" class=\"dataframe\">\n",
              "  <thead>\n",
              "    <tr style=\"text-align: right;\">\n",
              "      <th></th>\n",
              "      <th>sepalLength</th>\n",
              "      <th>sepalWidth</th>\n",
              "      <th>petalLength</th>\n",
              "      <th>petalWidth</th>\n",
              "      <th>species</th>\n",
              "    </tr>\n",
              "  </thead>\n",
              "  <tbody>\n",
              "    <tr>\n",
              "      <th>0</th>\n",
              "      <td>5.1</td>\n",
              "      <td>3.5</td>\n",
              "      <td>1.4</td>\n",
              "      <td>0.2</td>\n",
              "      <td>setosa</td>\n",
              "    </tr>\n",
              "    <tr>\n",
              "      <th>1</th>\n",
              "      <td>4.9</td>\n",
              "      <td>3.0</td>\n",
              "      <td>1.4</td>\n",
              "      <td>0.2</td>\n",
              "      <td>setosa</td>\n",
              "    </tr>\n",
              "    <tr>\n",
              "      <th>2</th>\n",
              "      <td>4.7</td>\n",
              "      <td>3.2</td>\n",
              "      <td>1.3</td>\n",
              "      <td>0.2</td>\n",
              "      <td>setosa</td>\n",
              "    </tr>\n",
              "    <tr>\n",
              "      <th>3</th>\n",
              "      <td>4.6</td>\n",
              "      <td>3.1</td>\n",
              "      <td>1.5</td>\n",
              "      <td>0.2</td>\n",
              "      <td>setosa</td>\n",
              "    </tr>\n",
              "    <tr>\n",
              "      <th>4</th>\n",
              "      <td>5.0</td>\n",
              "      <td>3.6</td>\n",
              "      <td>1.4</td>\n",
              "      <td>0.2</td>\n",
              "      <td>setosa</td>\n",
              "    </tr>\n",
              "    <tr>\n",
              "      <th>...</th>\n",
              "      <td>...</td>\n",
              "      <td>...</td>\n",
              "      <td>...</td>\n",
              "      <td>...</td>\n",
              "      <td>...</td>\n",
              "    </tr>\n",
              "    <tr>\n",
              "      <th>145</th>\n",
              "      <td>6.7</td>\n",
              "      <td>3.0</td>\n",
              "      <td>5.2</td>\n",
              "      <td>2.3</td>\n",
              "      <td>virginica</td>\n",
              "    </tr>\n",
              "    <tr>\n",
              "      <th>146</th>\n",
              "      <td>6.3</td>\n",
              "      <td>2.5</td>\n",
              "      <td>5.0</td>\n",
              "      <td>1.9</td>\n",
              "      <td>virginica</td>\n",
              "    </tr>\n",
              "    <tr>\n",
              "      <th>147</th>\n",
              "      <td>6.5</td>\n",
              "      <td>3.0</td>\n",
              "      <td>5.2</td>\n",
              "      <td>2.0</td>\n",
              "      <td>virginica</td>\n",
              "    </tr>\n",
              "    <tr>\n",
              "      <th>148</th>\n",
              "      <td>6.2</td>\n",
              "      <td>3.4</td>\n",
              "      <td>5.4</td>\n",
              "      <td>2.3</td>\n",
              "      <td>virginica</td>\n",
              "    </tr>\n",
              "    <tr>\n",
              "      <th>149</th>\n",
              "      <td>5.9</td>\n",
              "      <td>3.0</td>\n",
              "      <td>5.1</td>\n",
              "      <td>1.8</td>\n",
              "      <td>virginica</td>\n",
              "    </tr>\n",
              "  </tbody>\n",
              "</table>\n",
              "<p>150 rows × 5 columns</p>\n",
              "</div>\n",
              "      <button class=\"colab-df-convert\" onclick=\"convertToInteractive('df-ba34965a-3273-46a8-aa4e-8c1ef14da28a')\"\n",
              "              title=\"Convert this dataframe to an interactive table.\"\n",
              "              style=\"display:none;\">\n",
              "        \n",
              "  <svg xmlns=\"http://www.w3.org/2000/svg\" height=\"24px\"viewBox=\"0 0 24 24\"\n",
              "       width=\"24px\">\n",
              "    <path d=\"M0 0h24v24H0V0z\" fill=\"none\"/>\n",
              "    <path d=\"M18.56 5.44l.94 2.06.94-2.06 2.06-.94-2.06-.94-.94-2.06-.94 2.06-2.06.94zm-11 1L8.5 8.5l.94-2.06 2.06-.94-2.06-.94L8.5 2.5l-.94 2.06-2.06.94zm10 10l.94 2.06.94-2.06 2.06-.94-2.06-.94-.94-2.06-.94 2.06-2.06.94z\"/><path d=\"M17.41 7.96l-1.37-1.37c-.4-.4-.92-.59-1.43-.59-.52 0-1.04.2-1.43.59L10.3 9.45l-7.72 7.72c-.78.78-.78 2.05 0 2.83L4 21.41c.39.39.9.59 1.41.59.51 0 1.02-.2 1.41-.59l7.78-7.78 2.81-2.81c.8-.78.8-2.07 0-2.86zM5.41 20L4 18.59l7.72-7.72 1.47 1.35L5.41 20z\"/>\n",
              "  </svg>\n",
              "      </button>\n",
              "      \n",
              "  <style>\n",
              "    .colab-df-container {\n",
              "      display:flex;\n",
              "      flex-wrap:wrap;\n",
              "      gap: 12px;\n",
              "    }\n",
              "\n",
              "    .colab-df-convert {\n",
              "      background-color: #E8F0FE;\n",
              "      border: none;\n",
              "      border-radius: 50%;\n",
              "      cursor: pointer;\n",
              "      display: none;\n",
              "      fill: #1967D2;\n",
              "      height: 32px;\n",
              "      padding: 0 0 0 0;\n",
              "      width: 32px;\n",
              "    }\n",
              "\n",
              "    .colab-df-convert:hover {\n",
              "      background-color: #E2EBFA;\n",
              "      box-shadow: 0px 1px 2px rgba(60, 64, 67, 0.3), 0px 1px 3px 1px rgba(60, 64, 67, 0.15);\n",
              "      fill: #174EA6;\n",
              "    }\n",
              "\n",
              "    [theme=dark] .colab-df-convert {\n",
              "      background-color: #3B4455;\n",
              "      fill: #D2E3FC;\n",
              "    }\n",
              "\n",
              "    [theme=dark] .colab-df-convert:hover {\n",
              "      background-color: #434B5C;\n",
              "      box-shadow: 0px 1px 3px 1px rgba(0, 0, 0, 0.15);\n",
              "      filter: drop-shadow(0px 1px 2px rgba(0, 0, 0, 0.3));\n",
              "      fill: #FFFFFF;\n",
              "    }\n",
              "  </style>\n",
              "\n",
              "      <script>\n",
              "        const buttonEl =\n",
              "          document.querySelector('#df-ba34965a-3273-46a8-aa4e-8c1ef14da28a button.colab-df-convert');\n",
              "        buttonEl.style.display =\n",
              "          google.colab.kernel.accessAllowed ? 'block' : 'none';\n",
              "\n",
              "        async function convertToInteractive(key) {\n",
              "          const element = document.querySelector('#df-ba34965a-3273-46a8-aa4e-8c1ef14da28a');\n",
              "          const dataTable =\n",
              "            await google.colab.kernel.invokeFunction('convertToInteractive',\n",
              "                                                     [key], {});\n",
              "          if (!dataTable) return;\n",
              "\n",
              "          const docLinkHtml = 'Like what you see? Visit the ' +\n",
              "            '<a target=\"_blank\" href=https://colab.research.google.com/notebooks/data_table.ipynb>data table notebook</a>'\n",
              "            + ' to learn more about interactive tables.';\n",
              "          element.innerHTML = '';\n",
              "          dataTable['output_type'] = 'display_data';\n",
              "          await google.colab.output.renderOutput(dataTable, element);\n",
              "          const docLink = document.createElement('div');\n",
              "          docLink.innerHTML = docLinkHtml;\n",
              "          element.appendChild(docLink);\n",
              "        }\n",
              "      </script>\n",
              "    </div>\n",
              "  </div>\n",
              "  "
            ],
            "text/plain": [
              "     sepalLength  sepalWidth  petalLength  petalWidth    species\n",
              "0            5.1         3.5          1.4         0.2     setosa\n",
              "1            4.9         3.0          1.4         0.2     setosa\n",
              "2            4.7         3.2          1.3         0.2     setosa\n",
              "3            4.6         3.1          1.5         0.2     setosa\n",
              "4            5.0         3.6          1.4         0.2     setosa\n",
              "..           ...         ...          ...         ...        ...\n",
              "145          6.7         3.0          5.2         2.3  virginica\n",
              "146          6.3         2.5          5.0         1.9  virginica\n",
              "147          6.5         3.0          5.2         2.0  virginica\n",
              "148          6.2         3.4          5.4         2.3  virginica\n",
              "149          5.9         3.0          5.1         1.8  virginica\n",
              "\n",
              "[150 rows x 5 columns]"
            ]
          },
          "execution_count": 6,
          "metadata": {},
          "output_type": "execute_result"
        }
      ],
      "source": [
        "data.iris()"
      ]
    },
    {
      "cell_type": "code",
      "execution_count": null,
      "metadata": {
        "id": "l8gz21ULKVnU"
      },
      "outputs": [],
      "source": [
        "from sklearn.datasets import load_wine\n",
        "\n",
        "wine = load_wine(as_frame=True)"
      ]
    },
    {
      "cell_type": "code",
      "execution_count": null,
      "metadata": {
        "colab": {
          "base_uri": "https://localhost:8080/",
          "height": 742
        },
        "id": "bTSXrvB-GPLA",
        "outputId": "afb1f80a-57e7-4a6b-8ee8-95052355e86d"
      },
      "outputs": [
        {
          "name": "stdout",
          "output_type": "stream",
          "text": [
            "[1.         0.98990014 0.96078824 0.9158958  0.85966154 0.79676464\n",
            " 0.73136349 0.66668946 0.60496275 0.54751139 0.49497504 0.44751381\n",
            " 0.40498323 0.36706486 0.33335595 0.30342708 0.27685653 0.25324922\n",
            " 0.23224564 0.21352473 0.19680325 0.18183334 0.16839915 0.15631328\n",
            " 0.14541326 0.13555828 0.12662626 0.11851126 0.11112118 0.10437588\n",
            " 0.09820542 0.09254869 0.08735215 0.08256879 0.07815725 0.07408106\n",
            " 0.07030794 0.06680934 0.06355988 0.06053698 0.05772049 0.05509242\n",
            " 0.05263665 0.05033871 0.04818559 0.04616557 0.04426808 0.04248355\n",
            " 0.04080331 0.03921952 0.03772502 0.0363133  0.03497845 0.03371504\n",
            " 0.03251813 0.03138317 0.03030602 0.02928284 0.02831013 0.02738466\n",
            " 0.02650344 0.02566371 0.02486295 0.02409878 0.02336904 0.0226717\n",
            " 0.02200489 0.02136686 0.02075599 0.02017077 0.0196098  0.01907176\n",
            " 0.01855543 0.01805967 0.01758339 0.0171256  0.01668536 0.01626179\n",
            " 0.01585407 0.0154614  0.01508308 0.0147184  0.01436673 0.01402746\n",
            " 0.01370001 0.01338384 0.01307845 0.01278334 0.01249807 0.01222221\n",
            " 0.01195534 0.01169709 0.01144708 0.01120497 0.01097044 0.01074317\n",
            " 0.01052286 0.01030924 0.01010203 0.00990099]\n"
          ]
        },
        {
          "data": {
            "image/png": "[encoded data removed]",
            "text/plain": [
              "<Figure size 640x480 with 1 Axes>"
            ]
          },
          "metadata": {},
          "output_type": "display_data"
        }
      ],
      "source": [
        "from scipy.integrate import odeint\n",
        "import numpy as np\n",
        "import matplotlib.pyplot as plt\n",
        "\n",
        "def dydx(y,x):\n",
        "    return -2.*x*y**2\n",
        "\n",
        "x0 = 0\n",
        "xmax = 10\n",
        "y0 = 1\n",
        "\n",
        "x = np.linspace(x0,xmax,100)\n",
        "y = odeint(dydx,y0,x)\n",
        "print(y[:,0])\n",
        "\n",
        "plt.plot(x,y)\n",
        "plt.show()"
      ]
    },
    {
      "cell_type": "code",
      "execution_count": null,
      "metadata": {
        "colab": {
          "base_uri": "https://localhost:8080/",
          "height": 563
        },
        "id": "-1d8EXUlztIX",
        "outputId": "56c56b90-fb85-44e2-e711-2cddfa99e9b9"
      },
      "outputs": [
        {
          "name": "stdout",
          "output_type": "stream",
          "text": [
            "[[ 9.99983334e-01  3.33350000e-03]\n",
            " [ 9.99966671e-01 -4.99935090e-03]\n",
            " [ 9.99894463e-01 -9.25647419e-03]\n",
            " ...\n",
            " [ 1.73194257e-02 -1.73187477e-04]\n",
            " [ 1.73176940e-02 -1.73152853e-04]\n",
            " [ 1.73159627e-02 -1.73118240e-04]]\n"
          ]
        },
        {
          "data": {
            "image/png": "[encoded data removed]",
            "text/plain": [
              "<Figure size 640x480 with 1 Axes>"
            ]
          },
          "metadata": {},
          "output_type": "display_data"
        }
      ],
      "source": [
        "from scipy.integrate import odeint\n",
        "import numpy as np\n",
        "import matplotlib.pyplot as plt\n",
        "\n",
        "def odef(y,r): # 레인-엠덴 2차 미분방정식(2차 연립미분방정식)\n",
        "    dydt0 = y[1]\n",
        "    dydt1 = -2*y[1]/r - y[0]**5\n",
        "    return [dydt0,dydt1]\n",
        "\n",
        "h = 0.01\n",
        "h2 = h*h\n",
        "yh = 1 - h2/6 + h2*h2/24\n",
        "yph = h/3 + h*h2/6\n",
        "y0 = np.array([yh,yph])\n",
        "\n",
        "r0 = h\n",
        "rmax = 100\n",
        "r = np.linspace(r0,rmax,int(rmax/h))\n",
        "y = odeint(odef,y0,r)\n",
        "print(y)\n",
        "\n",
        "plt.loglog(r,y[:,0],label='y')\n",
        "#plt.loglog(r,y[:,1],label=\"y'\")\n",
        "plt.legend()\n",
        "plt.show()"
      ]
    },
    {
      "cell_type": "code",
      "execution_count": null,
      "metadata": {
        "colab": {
          "base_uri": "https://localhost:8080/",
          "height": 430
        },
        "id": "00P6n5pEvl9D",
        "outputId": "5074e3d5-f631-4a46-e950-763b12c118ea"
      },
      "outputs": [
        {
          "data": {
            "image/png": "[encoded data removed]",
            "text/plain": [
              "<Figure size 640x480 with 1 Axes>"
            ]
          },
          "metadata": {},
          "output_type": "display_data"
        }
      ],
      "source": [
        "from scipy.integrate import odeint\n",
        "import numpy as np\n",
        "import matplotlib.pyplot as plt\n",
        "\n",
        "def odef(y,x): # 사격법 (경계값 문제와 운동방정식)\n",
        "    dydt0 = y[1]\n",
        "    dydt1 = (8 + 3*x**4 - 6*x*y[0]*y[1])/8    # y'' =\n",
        "    return [dydt0,dydt1]\n",
        "\n",
        "x0, xmax = 1, 4   # 구간[1,4]에서\n",
        "y0 = 9/2          # y(1) = 9/2\n",
        "beta = 33/4       # y(4) = 33/4\n",
        "\n",
        "x = np.linspace(x0,xmax,100)\n",
        "tol = 1e-6\n",
        "\n",
        "A1 = 0\n",
        "A2 = 1\n",
        "B2 = 0\n",
        "\n",
        "loop = 0\n",
        "while True:\n",
        "    loop = loop + 1\n",
        "    if loop == 1: yp = A1\n",
        "    if loop == 2: yp = A2\n",
        "    yini = np.array([y0,yp])\n",
        "    yout = odeint(odef,yini,x)\n",
        "    B1 = B2\n",
        "    B2 = yout[-1,0]\n",
        "    if loop >= 2:\n",
        "        err = beta - B2\n",
        "        if abs(err) < tol: break\n",
        "        yp = A2 + (A2-A1)/(B2-B1) * err\n",
        "        A1 = A2\n",
        "        A2 = yp\n",
        "\n",
        "y = yout[:,0]\n",
        "\n",
        "plt.plot(x,y)\n",
        "plt.show()\n"
      ]
    },
    {
      "cell_type": "code",
      "execution_count": null,
      "metadata": {
        "colab": {
          "base_uri": "https://localhost:8080/",
          "height": 654
        },
        "id": "dR91hUv2fK5r",
        "outputId": "240fde47-d51b-4762-921b-cd6dc0d532cb"
      },
      "outputs": [
        {
          "name": "stdout",
          "output_type": "stream",
          "text": [
            "[[mpf('0.0')]\n",
            " [mpf('1.2735171248559007')]\n",
            " [mpf('-0.00055566912177258221')]\n",
            " [mpf('0.42524796027747158')]\n",
            " [mpf('-0.001115426211882212')]\n",
            " [mpf('0.25604604654152496')]\n",
            " [mpf('-0.0016834503663067139')]\n",
            " [mpf('0.18386328030904159')]\n",
            " [mpf('-0.0022641071144322575')]\n",
            " [mpf('0.14403167377573053')]\n",
            " [mpf('-0.0028620524104108029')]]\n"
          ]
        },
        {
          "data": {
            "text/plain": [
              "[<matplotlib.lines.Line2D at 0x7fccf43ce7c0>]"
            ]
          },
          "execution_count": 17,
          "metadata": {},
          "output_type": "execute_result"
        },
        {
          "data": {
            "image/png": "[encoded data removed]",
            "text/plain": [
              "<Figure size 640x480 with 1 Axes>"
            ]
          },
          "metadata": {},
          "output_type": "display_data"
        }
      ],
      "source": [
        "import numpy as np\n",
        "from mpmath import mp\n",
        "import matplotlib.pyplot as plt\n",
        "\n",
        "def func(t):        # T가 2인 사각파 (Squre Wave)\n",
        "    if 0<t<1: return 1\n",
        "    elif t<2: return -1\n",
        "    else:     return 0\n",
        "\n",
        "N = 10\n",
        "T = 2\n",
        "\n",
        "num = 1000\n",
        "t = np.linspace(0,T,num)\n",
        "f = np.zeros(num)\n",
        "for i in range(num):\n",
        "    f[i] = func(t[i])\n",
        "\n",
        "#print(f)\n",
        "plt.plot(t,f)\n",
        "\n",
        "c,s = mp.fourier(func,[0,T],N)\n",
        "\n",
        "n = np.arange(N+1)[:,np.newaxis]\n",
        "#print(n)\n",
        "\n",
        "#print(c)\n",
        "an = np.array(c)[:,np.newaxis]\n",
        "#print(an)\n",
        "cos = an * np.cos(2*np.pi*n*t/T)\n",
        "#print(cos)     # 모두 0\n",
        "#plt.plot(t,cos.T)\n",
        "\n",
        "#print(s)\n",
        "bn = np.array(s)[:,np.newaxis]\n",
        "print(bn)\n",
        "sin = bn * np.sin(2*np.pi*n*t/T)\n",
        "#print(sin)\n",
        "plt.plot(t,sin.T)\n",
        "\n",
        "plt.plot(t,sum(sin+cos))"
      ]
    },
    {
      "cell_type": "code",
      "execution_count": null,
      "metadata": {
        "id": "DZxavH5cBS4W"
      },
      "outputs": [],
      "source": [
        "from tensorflow.keras.utils import plot_model\n",
        "\n",
        "plot_model(model,show_shapes=True,show_layer_names=True,to_file='model.png')"
      ]
    },
    {
      "cell_type": "code",
      "execution_count": null,
      "metadata": {
        "colab": {
          "base_uri": "https://localhost:8080/"
        },
        "id": "KW00JWWOp4Sc",
        "outputId": "d3dcde78-e1c7-4764-aae1-4b02b526b4de"
      },
      "outputs": [
        {
          "name": "stderr",
          "output_type": "stream",
          "text": [
            "WARNING:tensorflow:From /usr/local/lib/python3.10/dist-packages/tensorflow/python/compat/v2_compat.py:107: disable_resource_variables (from tensorflow.python.ops.variable_scope) is deprecated and will be removed in a future version.\n",
            "Instructions for updating:\n",
            "non-resource variables are not supported in the long term\n"
          ]
        },
        {
          "name": "stdout",
          "output_type": "stream",
          "text": [
            "b'Welcome to the exciting world of Deep Neural Networks!'\n"
          ]
        }
      ],
      "source": [
        "import tensorflow.compat.v1 as tf\n",
        "tf.disable_v2_behavior()\n",
        "\n",
        "message = tf.constant('Welcome to the exciting world of Deep Neural Networks!')\n",
        "\n",
        "with tf.Session() as sess:\n",
        "    print(sess.run(message))"
      ]
    },
    {
      "cell_type": "code",
      "execution_count": null,
      "metadata": {
        "colab": {
          "base_uri": "https://localhost:8080/"
        },
        "id": "IUiYhPenwz6X",
        "outputId": "1edd8fb4-381e-43a3-b222-a87594263c98"
      },
      "outputs": [
        {
          "name": "stdout",
          "output_type": "stream",
          "text": [
            "Welcome to the exciting world of Deep Neural Networks!\n"
          ]
        }
      ],
      "source": [
        "import tensorflow.compat.v1 as tf\n",
        "tf.disable_v2_behavior()\n",
        "\n",
        "message = tf.constant('Welcome to the exciting world of Deep Neural Networks!')\n",
        "\n",
        "with tf.Session() as sess:\n",
        "    print(sess.run(message).decode())"
      ]
    },
    {
      "cell_type": "code",
      "execution_count": null,
      "metadata": {
        "colab": {
          "base_uri": "https://localhost:8080/"
        },
        "id": "6Z9SyY04wyKK",
        "outputId": "9f7661c4-3348-4851-c0a7-dbc6a1c3e270"
      },
      "outputs": [
        {
          "name": "stdout",
          "output_type": "stream",
          "text": [
            "[3 3 8 7]\n"
          ]
        }
      ],
      "source": [
        "import tensorflow.compat.v1 as tf\n",
        "tf.disable_v2_behavior()\n",
        "\n",
        "v_1 = tf.constant([1,2,3,4])\n",
        "v_2 = tf.constant([2,1,5,3])\n",
        "#v_add = v_1 + v_2\n",
        "v_add = tf.add(v_1,v_2)\n",
        "\n",
        "with tf.Session() as sess:\n",
        "    print(sess.run(v_add))"
      ]
    },
    {
      "cell_type": "code",
      "execution_count": null,
      "metadata": {
        "id": "FFmTA5N-rCN1"
      },
      "outputs": [],
      "source": [
        "import tensorflow.compat.v1 as tf\n",
        "tf.disable_v2_behavior()\n",
        "\n",
        "in_a = tf.placeholder(dtype=tf.float32,shape=(2))"
      ]
    },
    {
      "cell_type": "code",
      "execution_count": null,
      "metadata": {
        "colab": {
          "base_uri": "https://localhost:8080/"
        },
        "id": "2K2iv5r66ImC",
        "outputId": "e0470f0f-5c32-4db9-da0f-58ede87a0534"
      },
      "outputs": [
        {
          "name": "stderr",
          "output_type": "stream",
          "text": [
            "WARNING:tensorflow:From /usr/local/lib/python3.10/dist-packages/tensorflow/python/compat/v2_compat.py:107: disable_resource_variables (from tensorflow.python.ops.variable_scope) is deprecated and will be removed in a future version.\n",
            "Instructions for updating:\n",
            "non-resource variables are not supported in the long term\n"
          ]
        }
      ],
      "source": [
        "import tensorflow.compat.v1 as tf\n",
        "tf.disable_v2_behavior()\n",
        "\n",
        "in_a = tf.placeholder(dtype=tf.float32,shape=(2))\n",
        "\n",
        "def model(x):\n",
        "    with tf.variable_scope('MatMul',reuse=tf.AUTO_REUSE):\n",
        "        W = tf.get_variable(\"W\", initializer=tf.ones(shape=(2,2)))\n",
        "        b = tf.get_variable(\"b\", initializer=tf.ones(shape=(2)))\n",
        "        return x * W + b\n",
        "\n",
        "out_a = model(in_a)\n",
        "\n",
        "with tf.Session() as sess:\n",
        "    sess.run(tf.global_variables_initializer())\n",
        "    outs = sess.run([out_a],feed_dict={in_a:[1,0]})\n",
        "    writer = tf.summary.FileWriter(\"./logs/example\",sess.graph)"
      ]
    },
    {
      "cell_type": "code",
      "execution_count": null,
      "metadata": {
        "colab": {
          "base_uri": "https://localhost:8080/"
        },
        "id": "bhl-Xk8WX6hW",
        "outputId": "69284e78-f92b-4d8d-dfc3-675453db472d"
      },
      "outputs": [
        {
          "name": "stdout",
          "output_type": "stream",
          "text": [
            "Tensor Function 수행결과 (Tensor): tf.Tensor(11, shape=(), dtype=int32)\n",
            "Tensor Function 수행결과 (Numpy): 11\n"
          ]
        }
      ],
      "source": [
        "import tensorflow as tf\n",
        "\n",
        "def linear_layer_1(x):\n",
        "    return 3 * x\n",
        "\n",
        "def linear_layer_2(x):\n",
        "    return x + 2\n",
        "\n",
        "@tf.function\n",
        "def simple_nn(x):\n",
        "    temp = linear_layer_1(x)\n",
        "    return linear_layer_2(temp)\n",
        "\n",
        "result = simple_nn(3)\n",
        "\n",
        "print('Tensor Function 수행결과 (Tensor):',result)\n",
        "print('Tensor Function 수행결과 (Numpy):',result.numpy())\n",
        "#with t(f.compat.)v1.Session() as sess:\n",
        "#    result = sess.run(result)\n",
        "#    print(result)"
      ]
    },
    {
      "cell_type": "code",
      "execution_count": null,
      "metadata": {
        "colab": {
          "base_uri": "https://localhost:8080/"
        },
        "id": "wspMq8_RZ-f3",
        "outputId": "f35c0e04-2900-4330-9308-f28e14806a6f"
      },
      "outputs": [
        {
          "name": "stdout",
          "output_type": "stream",
          "text": [
            "tf.Tensor(0, shape=(), dtype=int64)\n",
            "0\n",
            "tf.Tensor(1, shape=(), dtype=int64)\n",
            "1\n",
            "tf.Tensor(2, shape=(), dtype=int64)\n",
            "2\n",
            "tf.Tensor(3, shape=(), dtype=int64)\n",
            "3\n",
            "tf.Tensor(4, shape=(), dtype=int64)\n",
            "4\n",
            "tf.Tensor(5, shape=(), dtype=int64)\n",
            "5\n",
            "tf.Tensor(6, shape=(), dtype=int64)\n",
            "6\n",
            "tf.Tensor(7, shape=(), dtype=int64)\n",
            "7\n",
            "tf.Tensor(8, shape=(), dtype=int64)\n",
            "8\n",
            "tf.Tensor(9, shape=(), dtype=int64)\n",
            "9\n",
            "tf.Tensor([0 1 2 3 4], shape=(5,), dtype=int64)\n",
            "[0 1 2 3 4]\n"
          ]
        }
      ],
      "source": [
        "import tensorflow as tf\n",
        "import numpy as np\n",
        "\n",
        "num_items = 10\n",
        "num_list = np.arange(num_items)\n",
        "\n",
        "num_list_dataset = tf.data.Dataset.from_tensor_slices(num_list)\n",
        "\n",
        "for elem in num_list_dataset:\n",
        "    print(elem)\n",
        "    print(elem.numpy())\n",
        "\n",
        "for batch in num_list_dataset.batch(5).shuffle(50).take(1):\n",
        "    print(batch)\n",
        "    print(batch.numpy())"
      ]
    },
    {
      "cell_type": "code",
      "execution_count": null,
      "metadata": {
        "colab": {
          "base_uri": "https://localhost:8080/"
        },
        "id": "FShjKgVYRcgN",
        "outputId": "d177b79d-6932-4ef6-fac5-22142ec79046"
      },
      "outputs": [
        {
          "name": "stdout",
          "output_type": "stream",
          "text": [
            "tf.Tensor(b\"This was an absolutely terrible movie. Don't be lured in by Christopher Walken or Michael Ironside. Both are great actors, but this must simply be their worst role in history. Even their great acting could not redeem this movie's ridiculous storyline. This movie is an early nineties US propaganda piece. The most pathetic scenes were those when the Columbian rebels were making their cases for revolutions. Maria Conchita Alonso appeared phony, and her pseudo-love affair with Walken was nothing but a pathetic emotional plug in a movie that was devoid of any real meaning. I am disappointed that there are movies like this, ruining actor's like Christopher Walken's good name. I could barely sit through it.\", shape=(), dtype=string)\n",
            "tf.Tensor(0, shape=(), dtype=int64)\n",
            "tf.Tensor(b'I have been known to fall asleep during films, but this is usually due to a combination of things including, really tired, being warm and comfortable on the sette and having just eaten a lot. However on this occasion I fell asleep because the film was rubbish. The plot development was constant. Constantly slow and boring. Things seemed to happen, but with no explanation of what was causing them or why. I admit, I may have missed part of the film, but i watched the majority of it and everything just seemed to happen of its own accord without any real concern for anything else. I cant recommend this film at all.', shape=(), dtype=string)\n",
            "tf.Tensor(0, shape=(), dtype=int64)\n",
            "During a sleepless night, I was switching through the channels & found this embarrassment of a movie. What were they thinking?<br /><br />If this is life after \"Remote Control\" for Kari (Wuhrer) Salin, no wonder she's gone nowhere.<br /><br />And why did David Keith take this role? It's pathetic!<br /><br />Anyway, I turned on the movie near the end, so I didn't get much of the plot. But this must've been the best part. This nerdy college kid brings home this dominatrix-ish girl...this scene is straight out of the comic books -- or the cheap porn movies. She calls the mother anal retentive and kisses the father \"Oh, I didn't expect tongue!\" Great lines!<br /><br />After this, I had to see how it ended..<br /><br />Well, of course, this bitch from hell has a helluva past, so the SWAT team is upstairs. And yes...they surround her! And YES YES! The kid blows her brains out!!!! AHAHHAHAHAHA!!<br /><br />This is must-see TV. <br /><br />\n",
            "0\n",
            "I can't understand why they decided to release this film to introduce the American audience to the dynamo that is Jet Li. Fist of Legend would have been a much better choice. Anyway, Black Mask isn't terrible, but it certainly isn't great either. The final fight sequence is well staged by Yuen Woo Ping who went on to coordinate The Matrix. But the English release suffers from rough editing and dubbing. (I'm begging the Hollywood studios to release these films uncut with subtitles.)Jet Li shows his characteristic charisma in the title role and Francoise Yip has a cool but brief role as the female 701.<br /><br />Black Mask has a strange goth style that adds some interest but it is overloaded with gun battles and explosions. More focus on Li's fantastic physical skills were in order. Black Mask is a decent film but do yourself a favor and pick up Fist of Legend if you want to see a tremendous film that really shows Li's skills.\n",
            "1\n"
          ]
        }
      ],
      "source": [
        "import tensorflow as tf\n",
        "import tensorflow_datasets as tfds\n",
        "\n",
        "datasets, info = tfds.load('imdb_reviews',with_info=True,as_supervised=True)\n",
        "\n",
        "train_dataset = datasets['train']\n",
        "\n",
        "for data in train_dataset.take(2):\n",
        "    print(data[0])\n",
        "    print(data[1])\n",
        "\n",
        "for data in train_dataset.batch(5).shuffle(50).take(2):\n",
        "    #print(data)\n",
        "    print(data[0][0].numpy().decode())\n",
        "    print(data[1][0].numpy())"
      ]
    },
    {
      "cell_type": "code",
      "execution_count": null,
      "metadata": {
        "colab": {
          "base_uri": "https://localhost:8080/"
        },
        "id": "gjygzB5gYxLX",
        "outputId": "cfc1db27-1895-488d-a765-213700cdafd6"
      },
      "outputs": [
        {
          "name": "stdout",
          "output_type": "stream",
          "text": [
            "(28, 28, 1)\n",
            "()\n",
            "(28, 28, 1)\n",
            "()\n",
            "(28, 28, 1)\n",
            "4\n",
            "(28, 28, 1)\n",
            "1\n"
          ]
        }
      ],
      "source": [
        "import tensorflow as tf\n",
        "import tensorflow_datasets as tfds\n",
        "\n",
        "datasets, info = tfds.load('mnist',with_info=True,as_supervised=True)\n",
        "\n",
        "train_dataset = datasets['train']\n",
        "\n",
        "for image, label in train_dataset.take(2):\n",
        "    print(image.numpy().shape)\n",
        "    print(label.numpy().shape)\n",
        "\n",
        "for data in train_dataset.take(2):\n",
        "    print(data[0].shape)\n",
        "    print(data[1].numpy())"
      ]
    },
    {
      "cell_type": "code",
      "execution_count": null,
      "metadata": {
        "colab": {
          "base_uri": "https://localhost:8080/",
          "height": 250
        },
        "id": "T-k8Ps7Ov-Ub",
        "outputId": "71ee4361-2e5f-4ecb-b951-d0fc14554df9"
      },
      "outputs": [
        {
          "ename": "AttributeError",
          "evalue": "ignored",
          "output_type": "error",
          "traceback": [
            "\u001b[0;31m---------------------------------------------------------------------------\u001b[0m",
            "\u001b[0;31mAttributeError\u001b[0m                            Traceback (most recent call last)",
            "\u001b[0;32m<ipython-input-63-ac10552e4939>\u001b[0m in \u001b[0;36m<cell line: 4>\u001b[0;34m()\u001b[0m\n\u001b[1;32m      2\u001b[0m \u001b[0;34m\u001b[0m\u001b[0m\n\u001b[1;32m      3\u001b[0m \u001b[0mmy_feature_columns\u001b[0m \u001b[0;34m=\u001b[0m \u001b[0;34m[\u001b[0m\u001b[0;34m]\u001b[0m\u001b[0;34m\u001b[0m\u001b[0;34m\u001b[0m\u001b[0m\n\u001b[0;32m----> 4\u001b[0;31m \u001b[0;32mfor\u001b[0m \u001b[0mkey\u001b[0m \u001b[0;32min\u001b[0m \u001b[0mtrain_x\u001b[0m\u001b[0;34m.\u001b[0m\u001b[0mkeys\u001b[0m\u001b[0;34m(\u001b[0m\u001b[0;34m)\u001b[0m\u001b[0;34m:\u001b[0m\u001b[0;34m\u001b[0m\u001b[0;34m\u001b[0m\u001b[0m\n\u001b[0m\u001b[1;32m      5\u001b[0m     \u001b[0mmy_feature_columns\u001b[0m\u001b[0;34m.\u001b[0m\u001b[0mappend\u001b[0m\u001b[0;34m(\u001b[0m\u001b[0mtf\u001b[0m\u001b[0;34m.\u001b[0m\u001b[0mfeature_column\u001b[0m\u001b[0;34m.\u001b[0m\u001b[0mnumeric_column\u001b[0m\u001b[0;34m(\u001b[0m\u001b[0mkey\u001b[0m\u001b[0;34m=\u001b[0m\u001b[0mkey\u001b[0m\u001b[0;34m)\u001b[0m\u001b[0;34m)\u001b[0m\u001b[0;34m\u001b[0m\u001b[0;34m\u001b[0m\u001b[0m\n\u001b[1;32m      6\u001b[0m \u001b[0;34m\u001b[0m\u001b[0m\n",
            "\u001b[0;31mAttributeError\u001b[0m: 'numpy.ndarray' object has no attribute 'keys'"
          ]
        }
      ],
      "source": [
        "(train_x,train_y),(test_x,test_y) = tf.keras.datasets.mnist.load_data()\n",
        "\n",
        "my_feature_columns = []\n",
        "for key in train_x.keys():\n",
        "    my_feature_columns.append(tf.feature_column.numeric_column(key=key))\n",
        "\n",
        "print(my_feature_columns)"
      ]
    },
    {
      "cell_type": "code",
      "execution_count": null,
      "metadata": {
        "colab": {
          "base_uri": "https://localhost:8080/"
        },
        "id": "5XpjgmWRxOld",
        "outputId": "fb274de3-f9dd-4422-de5a-85325bc815f6"
      },
      "outputs": [
        {
          "name": "stderr",
          "output_type": "stream",
          "text": [
            "WARNING:tensorflow:From <ipython-input-64-79741ebbd938>:1: numeric_column (from tensorflow.python.feature_column.feature_column_v2) is deprecated and will be removed in a future version.\n",
            "Instructions for updating:\n",
            "Use Keras preprocessing layers instead, either directly or via the `tf.keras.utils.FeatureSpace` utility. Each of `tf.feature_column.*` has a functional equivalent in `tf.keras.layers` for feature preprocessing when training a Keras model.\n"
          ]
        },
        {
          "name": "stdout",
          "output_type": "stream",
          "text": [
            "[NumericColumn(key='image', shape=(28, 28), default_value=None, dtype=tf.float32, normalizer_fn=None)]\n"
          ]
        }
      ],
      "source": [
        "my_feature_columns = [tf.feature_column.numeric_column(\"image\", shape=(28, 28))]\n",
        "print(my_feature_columns)"
      ]
    },
    {
      "cell_type": "code",
      "execution_count": null,
      "metadata": {
        "colab": {
          "base_uri": "https://localhost:8080/",
          "height": 759
        },
        "id": "yZhrtyohxIDS",
        "outputId": "287b38bf-7c39-4ecc-aebd-b74c59e2189c"
      },
      "outputs": [
        {
          "name": "stderr",
          "output_type": "stream",
          "text": [
            "WARNING:tensorflow:From <ipython-input-65-6e5d82b3765e>:14: DNNClassifierV2.__init__ (from tensorflow_estimator.python.estimator.canned.dnn) is deprecated and will be removed in a future version.\n",
            "Instructions for updating:\n",
            "Use tf.keras instead.\n",
            "WARNING:tensorflow:From /usr/local/lib/python3.10/dist-packages/tensorflow_estimator/python/estimator/head/head_utils.py:59: MultiClassHead.__init__ (from tensorflow_estimator.python.estimator.head.multi_class_head) is deprecated and will be removed in a future version.\n",
            "Instructions for updating:\n",
            "Use tf.keras instead.\n",
            "WARNING:tensorflow:From /usr/local/lib/python3.10/dist-packages/tensorflow_estimator/python/estimator/canned/dnn.py:759: Estimator.__init__ (from tensorflow_estimator.python.estimator.estimator) is deprecated and will be removed in a future version.\n",
            "Instructions for updating:\n",
            "Use tf.keras instead.\n",
            "WARNING:tensorflow:From /usr/local/lib/python3.10/dist-packages/tensorflow_estimator/python/estimator/estimator.py:1842: RunConfig.__init__ (from tensorflow_estimator.python.estimator.run_config) is deprecated and will be removed in a future version.\n",
            "Instructions for updating:\n",
            "Use tf.keras instead.\n",
            "WARNING:tensorflow:From /usr/local/lib/python3.10/dist-packages/tensorflow_estimator/python/estimator/estimator.py:385: StopAtStepHook.__init__ (from tensorflow.python.training.basic_session_run_hooks) is deprecated and will be removed in a future version.\n",
            "Instructions for updating:\n",
            "Use tf.keras instead.\n",
            "WARNING:tensorflow:From /usr/local/lib/python3.10/dist-packages/tensorflow/python/training/training_util.py:396: Variable.initialized_value (from tensorflow.python.ops.variables) is deprecated and will be removed in a future version.\n",
            "Instructions for updating:\n",
            "Use Variable.read_value. Variables in 2.X are initialized automatically both in eager and graph (inside tf.defun) contexts.\n"
          ]
        },
        {
          "ename": "ValueError",
          "evalue": "ignored",
          "output_type": "error",
          "traceback": [
            "\u001b[0;31m---------------------------------------------------------------------------\u001b[0m",
            "\u001b[0;31mValueError\u001b[0m                                Traceback (most recent call last)",
            "\u001b[0;32m<ipython-input-65-6e5d82b3765e>\u001b[0m in \u001b[0;36m<cell line: 30>\u001b[0;34m()\u001b[0m\n\u001b[1;32m     28\u001b[0m \u001b[0;34m\u001b[0m\u001b[0m\n\u001b[1;32m     29\u001b[0m \u001b[0;31m# 학습 실행\u001b[0m\u001b[0;34m\u001b[0m\u001b[0;34m\u001b[0m\u001b[0m\n\u001b[0;32m---> 30\u001b[0;31m classifier.train(\n\u001b[0m\u001b[1;32m     31\u001b[0m     \u001b[0minput_fn\u001b[0m\u001b[0;34m=\u001b[0m\u001b[0;32mlambda\u001b[0m\u001b[0;34m:\u001b[0m \u001b[0minput_fn\u001b[0m\u001b[0;34m(\u001b[0m\u001b[0mtrain_images\u001b[0m\u001b[0;34m,\u001b[0m \u001b[0mtrain_labels\u001b[0m\u001b[0;34m,\u001b[0m \u001b[0mbatch_size\u001b[0m\u001b[0;34m=\u001b[0m\u001b[0;36m32\u001b[0m\u001b[0;34m)\u001b[0m\u001b[0;34m,\u001b[0m\u001b[0;34m\u001b[0m\u001b[0;34m\u001b[0m\u001b[0m\n\u001b[1;32m     32\u001b[0m     \u001b[0msteps\u001b[0m\u001b[0;34m=\u001b[0m\u001b[0;36m1000\u001b[0m\u001b[0;34m\u001b[0m\u001b[0;34m\u001b[0m\u001b[0m\n",
            "\u001b[0;32m/usr/local/lib/python3.10/dist-packages/tensorflow_estimator/python/estimator/estimator.py\u001b[0m in \u001b[0;36mtrain\u001b[0;34m(self, input_fn, hooks, steps, max_steps, saving_listeners)\u001b[0m\n\u001b[1;32m    358\u001b[0m \u001b[0;34m\u001b[0m\u001b[0m\n\u001b[1;32m    359\u001b[0m       \u001b[0msaving_listeners\u001b[0m \u001b[0;34m=\u001b[0m \u001b[0m_check_listeners_type\u001b[0m\u001b[0;34m(\u001b[0m\u001b[0msaving_listeners\u001b[0m\u001b[0;34m)\u001b[0m\u001b[0;34m\u001b[0m\u001b[0;34m\u001b[0m\u001b[0m\n\u001b[0;32m--> 360\u001b[0;31m       \u001b[0mloss\u001b[0m \u001b[0;34m=\u001b[0m \u001b[0mself\u001b[0m\u001b[0;34m.\u001b[0m\u001b[0m_train_model\u001b[0m\u001b[0;34m(\u001b[0m\u001b[0minput_fn\u001b[0m\u001b[0;34m,\u001b[0m \u001b[0mhooks\u001b[0m\u001b[0;34m,\u001b[0m \u001b[0msaving_listeners\u001b[0m\u001b[0;34m)\u001b[0m\u001b[0;34m\u001b[0m\u001b[0;34m\u001b[0m\u001b[0m\n\u001b[0m\u001b[1;32m    361\u001b[0m       \u001b[0mlogging\u001b[0m\u001b[0;34m.\u001b[0m\u001b[0minfo\u001b[0m\u001b[0;34m(\u001b[0m\u001b[0;34m'Loss for final step: %s.'\u001b[0m\u001b[0;34m,\u001b[0m \u001b[0mloss\u001b[0m\u001b[0;34m)\u001b[0m\u001b[0;34m\u001b[0m\u001b[0;34m\u001b[0m\u001b[0m\n\u001b[1;32m    362\u001b[0m       \u001b[0;32mreturn\u001b[0m \u001b[0mself\u001b[0m\u001b[0;34m\u001b[0m\u001b[0;34m\u001b[0m\u001b[0m\n",
            "\u001b[0;32m/usr/local/lib/python3.10/dist-packages/tensorflow_estimator/python/estimator/estimator.py\u001b[0m in \u001b[0;36m_train_model\u001b[0;34m(self, input_fn, hooks, saving_listeners)\u001b[0m\n\u001b[1;32m   1184\u001b[0m       \u001b[0;32mreturn\u001b[0m \u001b[0mself\u001b[0m\u001b[0;34m.\u001b[0m\u001b[0m_train_model_distributed\u001b[0m\u001b[0;34m(\u001b[0m\u001b[0minput_fn\u001b[0m\u001b[0;34m,\u001b[0m \u001b[0mhooks\u001b[0m\u001b[0;34m,\u001b[0m \u001b[0msaving_listeners\u001b[0m\u001b[0;34m)\u001b[0m\u001b[0;34m\u001b[0m\u001b[0;34m\u001b[0m\u001b[0m\n\u001b[1;32m   1185\u001b[0m     \u001b[0;32melse\u001b[0m\u001b[0;34m:\u001b[0m\u001b[0;34m\u001b[0m\u001b[0;34m\u001b[0m\u001b[0m\n\u001b[0;32m-> 1186\u001b[0;31m       \u001b[0;32mreturn\u001b[0m \u001b[0mself\u001b[0m\u001b[0;34m.\u001b[0m\u001b[0m_train_model_default\u001b[0m\u001b[0;34m(\u001b[0m\u001b[0minput_fn\u001b[0m\u001b[0;34m,\u001b[0m \u001b[0mhooks\u001b[0m\u001b[0;34m,\u001b[0m \u001b[0msaving_listeners\u001b[0m\u001b[0;34m)\u001b[0m\u001b[0;34m\u001b[0m\u001b[0;34m\u001b[0m\u001b[0m\n\u001b[0m\u001b[1;32m   1187\u001b[0m \u001b[0;34m\u001b[0m\u001b[0m\n\u001b[1;32m   1188\u001b[0m   \u001b[0;32mdef\u001b[0m \u001b[0m_train_model_default\u001b[0m\u001b[0;34m(\u001b[0m\u001b[0mself\u001b[0m\u001b[0;34m,\u001b[0m \u001b[0minput_fn\u001b[0m\u001b[0;34m,\u001b[0m \u001b[0mhooks\u001b[0m\u001b[0;34m,\u001b[0m \u001b[0msaving_listeners\u001b[0m\u001b[0;34m)\u001b[0m\u001b[0;34m:\u001b[0m\u001b[0;34m\u001b[0m\u001b[0;34m\u001b[0m\u001b[0m\n",
            "\u001b[0;32m/usr/local/lib/python3.10/dist-packages/tensorflow_estimator/python/estimator/estimator.py\u001b[0m in \u001b[0;36m_train_model_default\u001b[0;34m(self, input_fn, hooks, saving_listeners)\u001b[0m\n\u001b[1;32m   1212\u001b[0m           self._get_features_and_labels_from_input_fn(input_fn, ModeKeys.TRAIN))\n\u001b[1;32m   1213\u001b[0m       \u001b[0mworker_hooks\u001b[0m\u001b[0;34m.\u001b[0m\u001b[0mextend\u001b[0m\u001b[0;34m(\u001b[0m\u001b[0minput_hooks\u001b[0m\u001b[0;34m)\u001b[0m\u001b[0;34m\u001b[0m\u001b[0;34m\u001b[0m\u001b[0m\n\u001b[0;32m-> 1214\u001b[0;31m       estimator_spec = self._call_model_fn(features, labels, ModeKeys.TRAIN,\n\u001b[0m\u001b[1;32m   1215\u001b[0m                                            self.config)\n\u001b[1;32m   1216\u001b[0m       \u001b[0mglobal_step_tensor\u001b[0m \u001b[0;34m=\u001b[0m \u001b[0mtf\u001b[0m\u001b[0;34m.\u001b[0m\u001b[0mcompat\u001b[0m\u001b[0;34m.\u001b[0m\u001b[0mv1\u001b[0m\u001b[0;34m.\u001b[0m\u001b[0mtrain\u001b[0m\u001b[0;34m.\u001b[0m\u001b[0mget_global_step\u001b[0m\u001b[0;34m(\u001b[0m\u001b[0mg\u001b[0m\u001b[0;34m)\u001b[0m\u001b[0;34m\u001b[0m\u001b[0;34m\u001b[0m\u001b[0m\n",
            "\u001b[0;32m/usr/local/lib/python3.10/dist-packages/tensorflow_estimator/python/estimator/estimator.py\u001b[0m in \u001b[0;36m_call_model_fn\u001b[0;34m(self, features, labels, mode, config)\u001b[0m\n\u001b[1;32m   1172\u001b[0m \u001b[0;34m\u001b[0m\u001b[0m\n\u001b[1;32m   1173\u001b[0m     \u001b[0mlogging\u001b[0m\u001b[0;34m.\u001b[0m\u001b[0minfo\u001b[0m\u001b[0;34m(\u001b[0m\u001b[0;34m'Calling model_fn.'\u001b[0m\u001b[0;34m)\u001b[0m\u001b[0;34m\u001b[0m\u001b[0;34m\u001b[0m\u001b[0m\n\u001b[0;32m-> 1174\u001b[0;31m     \u001b[0mmodel_fn_results\u001b[0m \u001b[0;34m=\u001b[0m \u001b[0mself\u001b[0m\u001b[0;34m.\u001b[0m\u001b[0m_model_fn\u001b[0m\u001b[0;34m(\u001b[0m\u001b[0mfeatures\u001b[0m\u001b[0;34m=\u001b[0m\u001b[0mfeatures\u001b[0m\u001b[0;34m,\u001b[0m \u001b[0;34m**\u001b[0m\u001b[0mkwargs\u001b[0m\u001b[0;34m)\u001b[0m\u001b[0;34m\u001b[0m\u001b[0;34m\u001b[0m\u001b[0m\n\u001b[0m\u001b[1;32m   1175\u001b[0m     \u001b[0mlogging\u001b[0m\u001b[0;34m.\u001b[0m\u001b[0minfo\u001b[0m\u001b[0;34m(\u001b[0m\u001b[0;34m'Done calling model_fn.'\u001b[0m\u001b[0;34m)\u001b[0m\u001b[0;34m\u001b[0m\u001b[0;34m\u001b[0m\u001b[0m\n\u001b[1;32m   1176\u001b[0m \u001b[0;34m\u001b[0m\u001b[0m\n",
            "\u001b[0;32m/usr/local/lib/python3.10/dist-packages/tensorflow_estimator/python/estimator/canned/dnn.py\u001b[0m in \u001b[0;36m_model_fn\u001b[0;34m(features, labels, mode, config)\u001b[0m\n\u001b[1;32m    744\u001b[0m     \u001b[0;32mdef\u001b[0m \u001b[0m_model_fn\u001b[0m\u001b[0;34m(\u001b[0m\u001b[0mfeatures\u001b[0m\u001b[0;34m,\u001b[0m \u001b[0mlabels\u001b[0m\u001b[0;34m,\u001b[0m \u001b[0mmode\u001b[0m\u001b[0;34m,\u001b[0m \u001b[0mconfig\u001b[0m\u001b[0;34m)\u001b[0m\u001b[0;34m:\u001b[0m\u001b[0;34m\u001b[0m\u001b[0;34m\u001b[0m\u001b[0m\n\u001b[1;32m    745\u001b[0m       \u001b[0;34m\"\"\"Call the defined shared dnn_model_fn_v2.\"\"\"\u001b[0m\u001b[0;34m\u001b[0m\u001b[0;34m\u001b[0m\u001b[0m\n\u001b[0;32m--> 746\u001b[0;31m       return dnn_model_fn_v2(\n\u001b[0m\u001b[1;32m    747\u001b[0m           \u001b[0mfeatures\u001b[0m\u001b[0;34m=\u001b[0m\u001b[0mfeatures\u001b[0m\u001b[0;34m,\u001b[0m\u001b[0;34m\u001b[0m\u001b[0;34m\u001b[0m\u001b[0m\n\u001b[1;32m    748\u001b[0m           \u001b[0mlabels\u001b[0m\u001b[0;34m=\u001b[0m\u001b[0mlabels\u001b[0m\u001b[0;34m,\u001b[0m\u001b[0;34m\u001b[0m\u001b[0;34m\u001b[0m\u001b[0m\n",
            "\u001b[0;32m/usr/local/lib/python3.10/dist-packages/tensorflow_estimator/python/estimator/canned/dnn.py\u001b[0m in \u001b[0;36mdnn_model_fn_v2\u001b[0;34m(features, labels, mode, head, hidden_units, feature_columns, optimizer, activation_fn, dropout, config, use_tpu, batch_norm)\u001b[0m\n\u001b[1;32m    550\u001b[0m     \u001b[0mValueError\u001b[0m\u001b[0;34m:\u001b[0m \u001b[0mIf\u001b[0m \u001b[0mfeatures\u001b[0m \u001b[0mhas\u001b[0m \u001b[0mthe\u001b[0m \u001b[0mwrong\u001b[0m \u001b[0mtype\u001b[0m\u001b[0;34m.\u001b[0m\u001b[0;34m\u001b[0m\u001b[0;34m\u001b[0m\u001b[0m\n\u001b[1;32m    551\u001b[0m   \"\"\"\n\u001b[0;32m--> 552\u001b[0;31m   \u001b[0m_validate_features\u001b[0m\u001b[0;34m(\u001b[0m\u001b[0mfeatures\u001b[0m\u001b[0;34m)\u001b[0m\u001b[0;34m\u001b[0m\u001b[0;34m\u001b[0m\u001b[0m\n\u001b[0m\u001b[1;32m    553\u001b[0m \u001b[0;34m\u001b[0m\u001b[0m\n\u001b[1;32m    554\u001b[0m   \u001b[0;32mdel\u001b[0m \u001b[0mconfig\u001b[0m\u001b[0;34m\u001b[0m\u001b[0;34m\u001b[0m\u001b[0m\n",
            "\u001b[0;32m/usr/local/lib/python3.10/dist-packages/tensorflow_estimator/python/estimator/canned/dnn.py\u001b[0m in \u001b[0;36m_validate_features\u001b[0;34m(features)\u001b[0m\n\u001b[1;32m    362\u001b[0m \u001b[0;32mdef\u001b[0m \u001b[0m_validate_features\u001b[0m\u001b[0;34m(\u001b[0m\u001b[0mfeatures\u001b[0m\u001b[0;34m)\u001b[0m\u001b[0;34m:\u001b[0m\u001b[0;34m\u001b[0m\u001b[0;34m\u001b[0m\u001b[0m\n\u001b[1;32m    363\u001b[0m   \u001b[0;32mif\u001b[0m \u001b[0;32mnot\u001b[0m \u001b[0misinstance\u001b[0m\u001b[0;34m(\u001b[0m\u001b[0mfeatures\u001b[0m\u001b[0;34m,\u001b[0m \u001b[0mdict\u001b[0m\u001b[0;34m)\u001b[0m\u001b[0;34m:\u001b[0m\u001b[0;34m\u001b[0m\u001b[0;34m\u001b[0m\u001b[0m\n\u001b[0;32m--> 364\u001b[0;31m     raise ValueError('features should be a dictionary of `Tensor`s. '\n\u001b[0m\u001b[1;32m    365\u001b[0m                      'Given type: {}'.format(type(features)))\n\u001b[1;32m    366\u001b[0m \u001b[0;34m\u001b[0m\u001b[0m\n",
            "\u001b[0;31mValueError\u001b[0m: features should be a dictionary of `Tensor`s. Given type: <class 'tensorflow.python.framework.ops.Tensor'>"
          ]
        }
      ],
      "source": [
        "import tensorflow as tf\n",
        "\n",
        "# MNIST 데이터 불러오기\n",
        "(train_images, train_labels), (test_images, test_labels) = tf.keras.datasets.mnist.load_data()\n",
        "\n",
        "# 입력 데이터 전처리: 정규화\n",
        "train_images = train_images / 255.0\n",
        "test_images = test_images / 255.0\n",
        "\n",
        "# Feature Column 생성\n",
        "feature_columns = [tf.feature_column.numeric_column(\"image\", shape=(28, 28))]\n",
        "\n",
        "# DNNClassifier 생성\n",
        "classifier = tf.estimator.DNNClassifier(\n",
        "    feature_columns=feature_columns,\n",
        "    hidden_units=[256, 128],  # 은닉층의 유닛 수\n",
        "    n_classes=10,  # 클래스 수\n",
        "    model_dir='model_dir'  # 모델 저장 경로\n",
        ")\n",
        "\n",
        "# 입력 함수 생성\n",
        "def input_fn(features, labels, batch_size, shuffle=True):\n",
        "    dataset = tf.data.Dataset.from_tensor_slices((features, labels))\n",
        "    if shuffle:\n",
        "        dataset = dataset.shuffle(len(features))\n",
        "    dataset = dataset.batch(batch_size)\n",
        "    return dataset\n",
        "\n",
        "# 학습 실행\n",
        "classifier.train(\n",
        "    input_fn=lambda: input_fn(train_images, train_labels, batch_size=32),\n",
        "    steps=1000\n",
        ")\n",
        "\n",
        "# 평가 실행\n",
        "eval_result = classifier.evaluate(\n",
        "    input_fn=lambda: input_fn(test_images, test_labels, batch_size=32)\n",
        ")\n",
        "print('Evaluation result:', eval_result)"
      ]
    },
    {
      "cell_type": "code",
      "execution_count": null,
      "metadata": {
        "colab": {
          "base_uri": "https://localhost:8080/",
          "height": 330
        },
        "id": "bGdUwggsoCKc",
        "outputId": "ca7347b4-75cf-4542-e4e8-577f426937fa"
      },
      "outputs": [
        {
          "ename": "ValueError",
          "evalue": "ignored",
          "output_type": "error",
          "traceback": [
            "\u001b[0;31m---------------------------------------------------------------------------\u001b[0m",
            "\u001b[0;31mValueError\u001b[0m                                Traceback (most recent call last)",
            "\u001b[0;32m<ipython-input-56-25d929ae506d>\u001b[0m in \u001b[0;36m<cell line: 1>\u001b[0;34m()\u001b[0m\n\u001b[0;32m----> 1\u001b[0;31m \u001b[0mtf\u001b[0m\u001b[0;34m.\u001b[0m\u001b[0mconstant\u001b[0m\u001b[0;34m(\u001b[0m\u001b[0;34m[\u001b[0m\u001b[0;34m[\u001b[0m\u001b[0;36m11\u001b[0m\u001b[0;34m,\u001b[0m\u001b[0;36m2\u001b[0m\u001b[0;34m,\u001b[0m\u001b[0;36m3\u001b[0m\u001b[0;34m]\u001b[0m\u001b[0;34m,\u001b[0m\u001b[0;34m[\u001b[0m\u001b[0;36m3\u001b[0m\u001b[0;34m,\u001b[0m\u001b[0;36m4\u001b[0m\u001b[0;34m]\u001b[0m\u001b[0;34m,\u001b[0m\u001b[0;34m[\u001b[0m\u001b[0;36m5\u001b[0m\u001b[0;34m,\u001b[0m\u001b[0;36m6\u001b[0m\u001b[0;34m,\u001b[0m\u001b[0;36m7\u001b[0m\u001b[0;34m,\u001b[0m\u001b[0;36m8\u001b[0m\u001b[0;34m]\u001b[0m\u001b[0;34m]\u001b[0m\u001b[0;34m)\u001b[0m\u001b[0;34m\u001b[0m\u001b[0;34m\u001b[0m\u001b[0m\n\u001b[0m",
            "\u001b[0;32m/usr/local/lib/python3.10/dist-packages/tensorflow/python/framework/constant_op.py\u001b[0m in \u001b[0;36mconstant\u001b[0;34m(value, dtype, shape, name)\u001b[0m\n\u001b[1;32m    266\u001b[0m     \u001b[0mValueError\u001b[0m\u001b[0;34m:\u001b[0m \u001b[0;32mif\u001b[0m \u001b[0mcalled\u001b[0m \u001b[0mon\u001b[0m \u001b[0ma\u001b[0m \u001b[0msymbolic\u001b[0m \u001b[0mtensor\u001b[0m\u001b[0;34m.\u001b[0m\u001b[0;34m\u001b[0m\u001b[0;34m\u001b[0m\u001b[0m\n\u001b[1;32m    267\u001b[0m   \"\"\"\n\u001b[0;32m--> 268\u001b[0;31m   return _constant_impl(value, dtype, shape, name, verify_shape=False,\n\u001b[0m\u001b[1;32m    269\u001b[0m                         allow_broadcast=True)\n\u001b[1;32m    270\u001b[0m \u001b[0;34m\u001b[0m\u001b[0m\n",
            "\u001b[0;32m/usr/local/lib/python3.10/dist-packages/tensorflow/python/framework/constant_op.py\u001b[0m in \u001b[0;36m_constant_impl\u001b[0;34m(value, dtype, shape, name, verify_shape, allow_broadcast)\u001b[0m\n\u001b[1;32m    278\u001b[0m       \u001b[0;32mwith\u001b[0m \u001b[0mtrace\u001b[0m\u001b[0;34m.\u001b[0m\u001b[0mTrace\u001b[0m\u001b[0;34m(\u001b[0m\u001b[0;34m\"tf.constant\"\u001b[0m\u001b[0;34m)\u001b[0m\u001b[0;34m:\u001b[0m\u001b[0;34m\u001b[0m\u001b[0;34m\u001b[0m\u001b[0m\n\u001b[1;32m    279\u001b[0m         \u001b[0;32mreturn\u001b[0m \u001b[0m_constant_eager_impl\u001b[0m\u001b[0;34m(\u001b[0m\u001b[0mctx\u001b[0m\u001b[0;34m,\u001b[0m \u001b[0mvalue\u001b[0m\u001b[0;34m,\u001b[0m \u001b[0mdtype\u001b[0m\u001b[0;34m,\u001b[0m \u001b[0mshape\u001b[0m\u001b[0;34m,\u001b[0m \u001b[0mverify_shape\u001b[0m\u001b[0;34m)\u001b[0m\u001b[0;34m\u001b[0m\u001b[0;34m\u001b[0m\u001b[0m\n\u001b[0;32m--> 280\u001b[0;31m     \u001b[0;32mreturn\u001b[0m \u001b[0m_constant_eager_impl\u001b[0m\u001b[0;34m(\u001b[0m\u001b[0mctx\u001b[0m\u001b[0;34m,\u001b[0m \u001b[0mvalue\u001b[0m\u001b[0;34m,\u001b[0m \u001b[0mdtype\u001b[0m\u001b[0;34m,\u001b[0m \u001b[0mshape\u001b[0m\u001b[0;34m,\u001b[0m \u001b[0mverify_shape\u001b[0m\u001b[0;34m)\u001b[0m\u001b[0;34m\u001b[0m\u001b[0;34m\u001b[0m\u001b[0m\n\u001b[0m\u001b[1;32m    281\u001b[0m \u001b[0;34m\u001b[0m\u001b[0m\n\u001b[1;32m    282\u001b[0m   \u001b[0mg\u001b[0m \u001b[0;34m=\u001b[0m \u001b[0mops\u001b[0m\u001b[0;34m.\u001b[0m\u001b[0mget_default_graph\u001b[0m\u001b[0;34m(\u001b[0m\u001b[0;34m)\u001b[0m\u001b[0;34m\u001b[0m\u001b[0;34m\u001b[0m\u001b[0m\n",
            "\u001b[0;32m/usr/local/lib/python3.10/dist-packages/tensorflow/python/framework/constant_op.py\u001b[0m in \u001b[0;36m_constant_eager_impl\u001b[0;34m(ctx, value, dtype, shape, verify_shape)\u001b[0m\n\u001b[1;32m    303\u001b[0m \u001b[0;32mdef\u001b[0m \u001b[0m_constant_eager_impl\u001b[0m\u001b[0;34m(\u001b[0m\u001b[0mctx\u001b[0m\u001b[0;34m,\u001b[0m \u001b[0mvalue\u001b[0m\u001b[0;34m,\u001b[0m \u001b[0mdtype\u001b[0m\u001b[0;34m,\u001b[0m \u001b[0mshape\u001b[0m\u001b[0;34m,\u001b[0m \u001b[0mverify_shape\u001b[0m\u001b[0;34m)\u001b[0m\u001b[0;34m:\u001b[0m\u001b[0;34m\u001b[0m\u001b[0;34m\u001b[0m\u001b[0m\n\u001b[1;32m    304\u001b[0m   \u001b[0;34m\"\"\"Creates a constant on the current device.\"\"\"\u001b[0m\u001b[0;34m\u001b[0m\u001b[0;34m\u001b[0m\u001b[0m\n\u001b[0;32m--> 305\u001b[0;31m   \u001b[0mt\u001b[0m \u001b[0;34m=\u001b[0m \u001b[0mconvert_to_eager_tensor\u001b[0m\u001b[0;34m(\u001b[0m\u001b[0mvalue\u001b[0m\u001b[0;34m,\u001b[0m \u001b[0mctx\u001b[0m\u001b[0;34m,\u001b[0m \u001b[0mdtype\u001b[0m\u001b[0;34m)\u001b[0m\u001b[0;34m\u001b[0m\u001b[0;34m\u001b[0m\u001b[0m\n\u001b[0m\u001b[1;32m    306\u001b[0m   \u001b[0;32mif\u001b[0m \u001b[0mshape\u001b[0m \u001b[0;32mis\u001b[0m \u001b[0;32mNone\u001b[0m\u001b[0;34m:\u001b[0m\u001b[0;34m\u001b[0m\u001b[0;34m\u001b[0m\u001b[0m\n\u001b[1;32m    307\u001b[0m     \u001b[0;32mreturn\u001b[0m \u001b[0mt\u001b[0m\u001b[0;34m\u001b[0m\u001b[0;34m\u001b[0m\u001b[0m\n",
            "\u001b[0;32m/usr/local/lib/python3.10/dist-packages/tensorflow/python/framework/constant_op.py\u001b[0m in \u001b[0;36mconvert_to_eager_tensor\u001b[0;34m(value, ctx, dtype)\u001b[0m\n\u001b[1;32m    101\u001b[0m       \u001b[0mdtype\u001b[0m \u001b[0;34m=\u001b[0m \u001b[0mdtypes\u001b[0m\u001b[0;34m.\u001b[0m\u001b[0mas_dtype\u001b[0m\u001b[0;34m(\u001b[0m\u001b[0mdtype\u001b[0m\u001b[0;34m)\u001b[0m\u001b[0;34m.\u001b[0m\u001b[0mas_datatype_enum\u001b[0m\u001b[0;34m\u001b[0m\u001b[0;34m\u001b[0m\u001b[0m\n\u001b[1;32m    102\u001b[0m   \u001b[0mctx\u001b[0m\u001b[0;34m.\u001b[0m\u001b[0mensure_initialized\u001b[0m\u001b[0;34m(\u001b[0m\u001b[0;34m)\u001b[0m\u001b[0;34m\u001b[0m\u001b[0;34m\u001b[0m\u001b[0m\n\u001b[0;32m--> 103\u001b[0;31m   \u001b[0;32mreturn\u001b[0m \u001b[0mops\u001b[0m\u001b[0;34m.\u001b[0m\u001b[0mEagerTensor\u001b[0m\u001b[0;34m(\u001b[0m\u001b[0mvalue\u001b[0m\u001b[0;34m,\u001b[0m \u001b[0mctx\u001b[0m\u001b[0;34m.\u001b[0m\u001b[0mdevice_name\u001b[0m\u001b[0;34m,\u001b[0m \u001b[0mdtype\u001b[0m\u001b[0;34m)\u001b[0m\u001b[0;34m\u001b[0m\u001b[0;34m\u001b[0m\u001b[0m\n\u001b[0m\u001b[1;32m    104\u001b[0m \u001b[0;34m\u001b[0m\u001b[0m\n\u001b[1;32m    105\u001b[0m \u001b[0;34m\u001b[0m\u001b[0m\n",
            "\u001b[0;31mValueError\u001b[0m: Can't convert non-rectangular Python sequence to Tensor."
          ]
        }
      ],
      "source": [
        "tf.constant([[1,2,3],[3,4],[5,6,7,8]])"
      ]
    },
    {
      "cell_type": "code",
      "execution_count": null,
      "metadata": {
        "colab": {
          "base_uri": "https://localhost:8080/"
        },
        "id": "fPrHGZ4xewLW",
        "outputId": "0c9669cd-ff86-4a18-dbbe-39f6aab86e36"
      },
      "outputs": [
        {
          "data": {
            "text/plain": [
              "<tf.RaggedTensor [[11, 2, 3], [3, 4], [5, 6, 7, 8]]>"
            ]
          },
          "execution_count": 55,
          "metadata": {},
          "output_type": "execute_result"
        }
      ],
      "source": [
        "tf.ragged.constant([[1,2,3],[3,4],[5,6,7,8]])"
      ]
    },
    {
      "cell_type": "code",
      "execution_count": null,
      "metadata": {
        "colab": {
          "base_uri": "https://localhost:8080/"
        },
        "id": "XL7ofgeRrU4i",
        "outputId": "d70dd363-a38f-45a8-8a2b-2de63b9432c0"
      },
      "outputs": [
        {
          "name": "stdout",
          "output_type": "stream",
          "text": [
            "tf.Tensor(256.0, shape=(), dtype=float32)\n",
            "8.0\n"
          ]
        }
      ],
      "source": [
        "import tensorflow as tf\n",
        "\n",
        "x = tf.constant(4.0)\n",
        "\n",
        "with tf.GradientTape(persistent=True) as g:\n",
        "    g.watch(x)\n",
        "    y = x * x\n",
        "    z = y * y\n",
        "\n",
        "dz_dx = g.gradient(z,x)\n",
        "print(dz_dx)\n",
        "dy_dx = g.gradient(y,x)\n",
        "print(dy_dx.numpy())\n",
        "\n",
        "del g"
      ]
    },
    {
      "cell_type": "code",
      "execution_count": null,
      "metadata": {
        "colab": {
          "base_uri": "https://localhost:8080/"
        },
        "id": "gh38UwMz03T8",
        "outputId": "44d02aab-e5aa-4be7-c5d2-13b5d6edfccf"
      },
      "outputs": [
        {
          "name": "stdout",
          "output_type": "stream",
          "text": [
            "Found TPU at: grpc://10.91.186.34:8470\n"
          ]
        }
      ],
      "source": [
        "import os\n",
        "\n",
        "try:\n",
        "  device_name = os.environ['COLAB_TPU_ADDR']\n",
        "  TPU_ADDRESS = 'grpc://' + device_name\n",
        "  print('Found TPU at: {}'.format(TPU_ADDRESS))\n",
        "except KeyError:\n",
        "  print('TPU not found')"
      ]
    },
    {
      "cell_type": "code",
      "execution_count": null,
      "metadata": {
        "colab": {
          "base_uri": "https://localhost:8080/"
        },
        "id": "gZRTgsMf4Dho",
        "outputId": "ca2381a4-2c8e-437b-d61b-bae7042c6c5e"
      },
      "outputs": [
        {
          "name": "stdout",
          "output_type": "stream",
          "text": [
            "TensorFlow version: 2.12.0\n"
          ]
        }
      ],
      "source": [
        "import tensorflow as tf\n",
        "\n",
        "print(\"TensorFlow version:\", tf.__version__)"
      ]
    },
    {
      "cell_type": "code",
      "execution_count": null,
      "metadata": {
        "colab": {
          "base_uri": "https://localhost:8080/"
        },
        "id": "rh-wkv7NSfHL",
        "outputId": "1e9435cb-6cfe-4967-f1a6-9ed1a77493e2"
      },
      "outputs": [
        {
          "data": {
            "text/plain": [
              "{'average_loss': 58.556442,\n",
              " 'label/mean': 23.078432,\n",
              " 'loss': 57.802376,\n",
              " 'prediction/mean': 21.914986,\n",
              " 'global_step': 300}"
            ]
          },
          "execution_count": 2,
          "metadata": {},
          "output_type": "execute_result"
        }
      ],
      "source": [
        "val_result"
      ]
    },
    {
      "cell_type": "code",
      "execution_count": null,
      "metadata": {
        "colab": {
          "base_uri": "https://localhost:8080/"
        },
        "id": "e3HwAqN6U6L-",
        "outputId": "1ad6ecfe-1b48-4dc8-e901-98d46566eea7"
      },
      "outputs": [
        {
          "data": {
            "text/plain": [
              "<generator object Estimator.predict at 0x7fd32f64e490>"
            ]
          },
          "execution_count": 7,
          "metadata": {},
          "output_type": "execute_result"
        }
      ],
      "source": [
        "predict_result"
      ]
    },
    {
      "cell_type": "code",
      "execution_count": null,
      "metadata": {
        "colab": {
          "base_uri": "https://localhost:8080/"
        },
        "id": "P_ndl1pDWUG5",
        "outputId": "93db1936-236f-4d76-bd5c-2d7a6215cec6"
      },
      "outputs": [
        {
          "data": {
            "text/plain": [
              "<keras.callbacks.History at 0x7f4d3033e200>"
            ]
          },
          "execution_count": 2,
          "metadata": {},
          "output_type": "execute_result"
        }
      ],
      "source": [
        "import numpy as np\n",
        "import matplotlib.pyplot as plt\n",
        "import tensorflow as tf\n",
        "\n",
        "# 데이터 수집 및 전처리\n",
        "x = np.array([10,17,27,24,38,35,29,40,12,32,23,21])\n",
        "y = np.array([30,45,58,50,61,65,50,51,35,62,50,40])\n",
        "\n",
        "# 모델 훈련\n",
        "model = tf.keras.Sequential()             # 인공신경망 모델 정의\n",
        "model.add(tf.keras.layers.Dense(1,input_shape=(1,)))\n",
        "sgd = tf.keras.optimizers.SGD(learning_rate=0.001)\n",
        "model.compile(optimizer=sgd,loss='mse')   # 인공신경망 모델 컴파일\n",
        "\n",
        "tensorboard = tf.keras.callbacks.TensorBoard(log_dir='tensorboard')\n",
        "model.fit(x,y,epochs=1000,verbose=False,callbacks=[tensorboard])"
      ]
    }
  ],
  "metadata": {
    "accelerator": "GPU",
    "colab": {
      "provenance": [],
      "mount_file_id": "1Bc9Y1tg6wiXug4zvB66aGgVEJhULoXJo",
      "authorship_tag": "ABX9TyP8R5WaFURt81LkZBGAlSKT",
      "include_colab_link": true
    },
    "kernelspec": {
      "display_name": "Python 3",
      "name": "python3"
    },
    "language_info": {
      "name": "python"
    }
  },
  "nbformat": 4,
  "nbformat_minor": 0
}